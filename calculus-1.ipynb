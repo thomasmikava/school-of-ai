{
 "cells": [
  {
   "cell_type": "code",
   "execution_count": null,
   "metadata": {},
   "outputs": [],
   "source": [
    "%load_ext autoreload\n",
    "%autoreload 2\n",
    "\n",
    "%matplotlib inline"
   ]
  },
  {
   "cell_type": "code",
   "execution_count": 1,
   "metadata": {},
   "outputs": [
    {
     "data": {
      "text/html": [
       "<style>\n",
       ".solution {\n",
       "    border: 2px solid #00b8d7;\n",
       "    border-radius: 5px;\n",
       "    padding: 5px 5px 5px 20px;\n",
       "    position: relative;\n",
       "    overflow: hidden;\n",
       "}\n",
       ".solution::before {\n",
       "    content: \"\";\n",
       "    position: absolute;\n",
       "    left: 0;\n",
       "    top: 0;\n",
       "    transform: translate(-50%);\n",
       "    border-radius: 100%;\n",
       "    height: 100%;\n",
       "    width: 26px;\n",
       "    background: #00b8d7;\n",
       "}\n",
       "</style>\n"
      ],
      "text/plain": [
       "<IPython.core.display.HTML object>"
      ]
     },
     "metadata": {},
     "output_type": "display_data"
    }
   ],
   "source": [
    "%%html\n",
    "<style>\n",
    ".solution {\n",
    "    border: 2px solid #00b8d7;\n",
    "    border-radius: 5px;\n",
    "    padding: 5px 5px 5px 20px;\n",
    "    position: relative;\n",
    "    overflow: hidden;\n",
    "}\n",
    ".solution::before {\n",
    "    content: \"\";\n",
    "    position: absolute;\n",
    "    left: 0;\n",
    "    top: 0;\n",
    "    transform: translate(-50%);\n",
    "    border-radius: 100%;\n",
    "    height: 100%;\n",
    "    width: 26px;\n",
    "    background: #00b8d7;\n",
    "}\n",
    "</style>"
   ]
  },
  {
   "cell_type": "markdown",
   "metadata": {},
   "source": [
    "# Metric spaces"
   ]
  },
  {
   "cell_type": "markdown",
   "metadata": {},
   "source": [
    "#### Prove that:\n",
    "For every metric space (X, d):\n",
    "- For eny $\\mathcal{U} = \\{U | U$ is open in $(X, d)\\}$ holds $\\bigcup_{U \\in \\mathcal{U}} U$ is open in $(X, d)$\n",
    "- For eny two $U, V \\subset X$ open in $(X, d)$ holds: $U \\cap V$ is open in $(X, d)$\n",
    "- $X$ is open in $(X, d)$\n",
    "- $\\emptyset$ is open in $(X, d)$"
   ]
  },
  {
   "cell_type": "markdown",
   "metadata": {},
   "source": [
    "<div class=\"solution\">\n",
    "<ul>\n",
    "    <li>Let's prove by contradiction. Suppose there exists some $x_0$ that $x_0 \\in \\bigcup_{U \\in \\mathcal{U}} U$ and for which we cannut fund such $r$ that and $(x_0, r) \\subset \\bigcup_{U \\in \\mathcal{U}}$<br />\n",
    "    Since $x_0 \\in \\bigcup_{U \\in \\mathcal{U}}$, there exists $U_i\\in \\mathcal{U}$ such that $x_0 \\in U_i$. By definition, $U_i$ is in $(X, d)$, thus there exists such $r$. Contradiction.</li>\n",
    "    <li>If for every $x \\in U$ there is some $r$ that satisifies condition and for every $w \\in V$ there is some $q$ that satisfies statement of opennes in $(X, d)$, then for their intersection, the statement will still be true. Otherwise, the intersection would not be subset of neither $U$ nor $V$, which is impossible</li>\n",
    "    <li>This is pobably typo, since $X$ is closed in $(X, d)$</li>\n",
    "    <li>Definitely, there is no element in $\\emptyset$ that will violate the statement </li>\n",
    "</ul>\n",
    "</div>"
   ]
  },
  {
   "cell_type": "markdown",
   "metadata": {},
   "source": [
    "#### Prove that:\n",
    "- For eny finity set $(U)_{i=1}^{n}$ of open sets in $(X, d)$, $\\bigcap_{i=1}^{n}U$ is open in $(X, d)$"
   ]
  },
  {
   "cell_type": "markdown",
   "metadata": {},
   "source": [
    "<div class=\"solution\">\n",
    "<ul>\n",
    "    <li>This can be proven by same as the second subproblem in the previous problem. We just have n sets instead of 2. Nothing changes in the proof</li>\n",
    "</ul>\n",
    "</div>"
   ]
  },
  {
   "cell_type": "markdown",
   "metadata": {},
   "source": [
    "#### Prove that for set $U \\subset X$ is open if and only if for each point $x \\in U$ there exists the open neighbourhood $V$ of $x$ such that $V \\subset U$"
   ]
  },
  {
   "cell_type": "markdown",
   "metadata": {},
   "source": [
    "<div class=\"solution\">\n",
    "Otherwise $U$ will be $\\emptyset$, but since there exists element x in set $U$, it cannot be $\\emptyset$\n",
    "</div>"
   ]
  },
  {
   "cell_type": "markdown",
   "metadata": {},
   "source": [
    "#### Prove that, closed ball is closed subset in $(X, d)$\n"
   ]
  },
  {
   "cell_type": "markdown",
   "metadata": {},
   "source": [
    "<div class=\"solution\">\n",
    "Let's take closed ball $F$ with center $x \\in X$ and radius $r \\in \\mathbb{R}$. Let's take set $W=\\{y|d(y-x)=r\\}$. Then $F - W$ will be open, thus $X - F$ will also be open and $F$ will be closed set\n",
    "</div>"
   ]
  },
  {
   "cell_type": "markdown",
   "metadata": {},
   "source": [
    "#### Prove that\n",
    "For every metric space (X, d):\n",
    "- For eny $\\mathcal{F} = \\{F | F$ is closed in $(X, d)\\}$ holds $\\bigcap_{F \\in \\mathcal{F}} F$ is closed in $(X, d)$\n",
    "- For eny two $F_1, F_2 \\subset X$ closed in $(X, d)$ holds: $F_1 \\cup F_2$ is closed in $(X, d)$\n",
    "- $X$ is closed in $(X, d)$\n",
    "- $\\emptyset$ is closed in $(X, d)$"
   ]
  },
  {
   "cell_type": "markdown",
   "metadata": {},
   "source": [
    "<div class=\"solution\">\n",
    "<ul>\n",
    "    <li>pass</li>\n",
    "    <li>Since $X - F_1$ and $X - F_2$ are both open, subset of this open set will also be open. Since $X - (F_1 \\cup F_2)$ is a subset of this open set, $F_1 \\cup F_2$ will be closed to</li>\n",
    "    <li>$X - X = \\emptyset$, which is open set (we have proven this in the first questions)</li>\n",
    "    <li>This is probably typo, since $\\emptyset$ is open</li>\n",
    "</ul>\n",
    "</div>"
   ]
  },
  {
   "cell_type": "markdown",
   "metadata": {},
   "source": [
    "#### Prove that:\n",
    "- For eny finity set $(F)_{i=1}^{n}$ of closed sets in $(X, d)$, $\\bigcup_{i=1}^{n}F$ is closed in $(X, d)$"
   ]
  },
  {
   "cell_type": "markdown",
   "metadata": {},
   "source": [
    "<div class=\"solution\">\n",
    "<ul>\n",
    "    <li>This can be proven by same as the second subproblem in the previous problem. We just have n sets instead of 2. Nothing changes in the proof</li>\n",
    "</ul>\n",
    "</div>"
   ]
  },
  {
   "cell_type": "markdown",
   "metadata": {},
   "source": [
    "#### Prove that, if $F \\subset X$ is closed then $X - F$ is open in $(X, d)$"
   ]
  },
  {
   "cell_type": "markdown",
   "metadata": {},
   "source": [
    "<div class=\"solution\">\n",
    "This is directly definition of closed set, so there's nothing to prove\n",
    "</div>"
   ]
  },
  {
   "cell_type": "markdown",
   "metadata": {},
   "source": [
    "### Examples of metric spaces"
   ]
  },
  {
   "cell_type": "markdown",
   "metadata": {},
   "source": [
    "# Metrics in Euclidean spaces"
   ]
  },
  {
   "cell_type": "markdown",
   "metadata": {},
   "source": [
    "Prove that:\n",
    "- for every $u, v \\in \\mathbb{R}^{n}$: $d(u, v) \\geq 0$\n",
    "- for every $v \\in \\mathbb{R}^{n}$: $d(v, v) = 0$\n",
    "- for every $u, v \\in \\mathbb{R}^{n}$: $d(u, v) = d(v, u)$ (symmetry)\n",
    "- for every $u, v, w \\in \\mathbb{R}^{n}$: $d(u, w) \\leq d(v, u) + d(v, w)$ (triangle inequality)"
   ]
  },
  {
   "cell_type": "markdown",
   "metadata": {},
   "source": [
    "<div class=\"solution\">\n",
    "<ul>\n",
    "    <li>$d(u, v) = ||u-v||_2 = \\sqrt{\\sum_{i = 1}^{n}(u_i - v_i)^2}$ for every $i \\leq n, (u_i - v_i)^2$ is non-negative, so square root of sum of non-negative real numbers is also non-negative</li>\n",
    "    <li>Since for every $i \\leq n, (u_i - u_i)^2=0$, $d(u,u)=0$</li>\n",
    "    <li>Since square of difference is symmetric ($(u_i - v_i)^2 = (v_i - u_i)^2$), this will also be symmetric</li>\n",
    "</ul>\n",
    "</div>"
   ]
  },
  {
   "cell_type": "markdown",
   "metadata": {},
   "source": [
    "Prove the same properties hold for $d(u, v) = ||u-v||_1$ ($||u-v||_1 = \\sum_{i = 1}^{n}|u_i - v_i|$)"
   ]
  },
  {
   "cell_type": "markdown",
   "metadata": {},
   "source": [
    "<div class=\"solution\">\n",
    "<ul>\n",
    "    <li>$d(u, v) = ||u-v||_1 = \\sum_{i = 1}^{n}|u_i - v_i|$ for every $i \\leq n, |u_i - v_i|$ is non-negative, so sum of non-negative real numbers is also non-negative</li>\n",
    "    <li>Since for every $i \\leq n, |u_i - u_i|=0$, $d(u,u)=0$</li>\n",
    "    <li>Since square of difference is symmetric ($|u_i - v_i| = |v_i - u_i|$), this will also be symmetric</li>\n",
    "</ul>\n",
    "</div>"
   ]
  },
  {
   "cell_type": "markdown",
   "metadata": {},
   "source": [
    "## Sequences and limits"
   ]
  },
  {
   "cell_type": "markdown",
   "metadata": {},
   "source": [
    "#### Prove that $x = \\lim_{n\\to\\infty}{x_n}$ in $(X, d)$ if and only if (iff) for every $r \\in \\mathbb{R}$ there exists $n_0 \\in \\mathbb{N}$ such that: $x_i \\in B(x, r)$ for every $i \\gt n_0$"
   ]
  },
  {
   "cell_type": "markdown",
   "metadata": {},
   "source": [
    "<div class=\"solution\">\n",
    "For every $r$, we can find open set $U \\in X$ and $U \\subset B(x,r)$. Thus this problem is reduced to $x_i \\in U$ for every $i \\gt n_0$ which is true from the definition of the sequence\n",
    "</div>"
   ]
  },
  {
   "cell_type": "markdown",
   "metadata": {},
   "source": [
    "#### Prove that if $x = \\lim_{n\\to\\infty}{x_n}$ and $x \\notin \\{-\\infty, \\infty\\}$ then $(x_i)_{i=1}^{\\infty} = (x_1, x_2, \\dots, x_n)$ is a Cauchy sequence"
   ]
  },
  {
   "cell_type": "markdown",
   "metadata": {},
   "source": [
    "<div class=\"solution\">\n",
    "if $x$ is the limit of sequence, then for every $r$ there are infinitely many $x_i$'s such that $x_k \\in B(x, \\frac{r}{2})$ for every k greater than some natural number. Thus, we can find $i$ and $j$ such that $d(x_i,x_j)<r$ and the sequence is a Cauchy sequence\n",
    "</div>"
   ]
  },
  {
   "cell_type": "markdown",
   "metadata": {},
   "source": [
    "\n",
    "For closed set $F \\subset \\mathbb{R}^n$ and convergent sequence $(x_i)_{i=1}^{\\infty} = (x_1, x_2, \\dots, x_n)$ such that there exists $n_0 \\in \\mathbb{N}$ such that $x_i \\in F$ for each $i \\gt n_0$ then: $\\lim_{n\\to\\infty}{x_n} \\in F$"
   ]
  },
  {
   "cell_type": "markdown",
   "metadata": {},
   "source": [
    "#### Prove that if $F$ is open from previous example, statement does not hold. "
   ]
  },
  {
   "cell_type": "markdown",
   "metadata": {},
   "source": [
    "<div class=\"solution\">\n",
    "The limit may belong to the boundary set, so if $F$ is open, then the statement is not necessarily true\n",
    "</div>"
   ]
  },
  {
   "cell_type": "markdown",
   "metadata": {},
   "source": [
    "#### Prove that inherited metric is a metric"
   ]
  },
  {
   "cell_type": "markdown",
   "metadata": {},
   "source": [
    "<div class=\"solution\">\n",
    "If there were some $u, v$ in inherited metric that violated properties of metric, that the metric from which it was inhereted would not satisfy properties of metrics \n",
    "</div>"
   ]
  },
  {
   "cell_type": "markdown",
   "metadata": {},
   "source": [
    "#### Prove that this three definitions are equiualent for eny function between eny two metric spaces"
   ]
  },
  {
   "cell_type": "markdown",
   "metadata": {},
   "source": [
    "## Continuous functions "
   ]
  },
  {
   "cell_type": "markdown",
   "metadata": {},
   "source": [
    "#### Prove that function is continuous in $c$ if for eny sequence $(x_n)_{n=1}^{\\infty} \\subset X$ such that $\\lim_{n \\to \\infty}x_n = c$ we have $\\lim_{n \\to \\infty}f(x_n) = f(c)$"
   ]
  },
  {
   "cell_type": "markdown",
   "metadata": {},
   "source": [
    "<div class=\"solution\">\n",
    "$\\lim_{n \\to \\infty}f(x_n) = f(\\lim_{n \\to \\infty}x_n) = f(c)$\n",
    "</div>"
   ]
  },
  {
   "cell_type": "markdown",
   "metadata": {},
   "source": [
    "#### Prove that function is continuous if for every open set $V \\subset Y$ the $f^{-1}(V)$ is open in $X$"
   ]
  },
  {
   "cell_type": "markdown",
   "metadata": {},
   "source": [
    "#### Prove that function is continuous if for every closed set $F \\subset Y$ the $f^{-1}(F)$ is open in $X$"
   ]
  },
  {
   "cell_type": "markdown",
   "metadata": {},
   "source": [
    "#### Prove that any composition of continous functions is continous"
   ]
  },
  {
   "cell_type": "markdown",
   "metadata": {},
   "source": [
    "<div class=\"solution\">\n",
    "<ul>\n",
    "<li>$\\lim_{x \\to c}f(x)\\pm g(x)=\\lim_{x \\to c}f(x)\\pm\\lim_{x \\to c}g(x)=f(c)\\pm g(c)$</li>\n",
    "<li>$\\lim_{x \\to c}f(x)\\cdot g(x)=\\lim_{x \\to c}f(x)\\cdot\\lim_{x \\to c}g(x)=f(c)\\cdot g(c)$</li>\n",
    "<li>$\\lim_{x \\to c}\\frac{f(x)}{g(x)}=\\frac{\\lim_{x \\to c}f(x)}{\\lim_{x \\to c}g(x)}=\\frac{f(c)}{g(c)}$</li>\n",
    "<li>$\\lim_{x \\to c}f(g(x))=f(\\lim_{x \\to c}g(x))=f(g(c))$</li>\n",
    "</ul>\n",
    "</div>"
   ]
  }
 ],
 "metadata": {
  "kernelspec": {
   "display_name": "Python 3",
   "language": "python",
   "name": "python3"
  },
  "language_info": {
   "codemirror_mode": {
    "name": "ipython",
    "version": 3
   },
   "file_extension": ".py",
   "mimetype": "text/x-python",
   "name": "python",
   "nbconvert_exporter": "python",
   "pygments_lexer": "ipython3",
   "version": "3.7.5"
  }
 },
 "nbformat": 4,
 "nbformat_minor": 4
}
