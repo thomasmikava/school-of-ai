{
 "cells": [
  {
   "cell_type": "code",
   "execution_count": null,
   "metadata": {},
   "outputs": [],
   "source": [
    "%load_ext autoreload\n",
    "%autoreload 2\n",
    "\n",
    "%matplotlib inline"
   ]
  },
  {
   "cell_type": "code",
   "execution_count": 1,
   "metadata": {},
   "outputs": [
    {
     "data": {
      "text/html": [
       "<style>\n",
       ".solution {\n",
       "    border: 2px solid #00b8d7;\n",
       "    border-radius: 5px;\n",
       "    padding: 5px 5px 5px 20px;\n",
       "    position: relative;\n",
       "    overflow: hidden;\n",
       "}\n",
       ".solution::before {\n",
       "    content: \"\";\n",
       "    position: absolute;\n",
       "    left: 0;\n",
       "    top: 0;\n",
       "    transform: translate(-50%);\n",
       "    border-radius: 100%;\n",
       "    height: 100%;\n",
       "    width: 26px;\n",
       "    background: #00b8d7;\n",
       "}\n",
       "</style>\n"
      ],
      "text/plain": [
       "<IPython.core.display.HTML object>"
      ]
     },
     "metadata": {},
     "output_type": "display_data"
    }
   ],
   "source": [
    "%%html\n",
    "<style>\n",
    ".solution {\n",
    "    border: 2px solid #00b8d7;\n",
    "    border-radius: 5px;\n",
    "    padding: 5px 5px 5px 20px;\n",
    "    position: relative;\n",
    "    overflow: hidden;\n",
    "}\n",
    ".solution::before {\n",
    "    content: \"\";\n",
    "    position: absolute;\n",
    "    left: 0;\n",
    "    top: 0;\n",
    "    transform: translate(-50%);\n",
    "    border-radius: 100%;\n",
    "    height: 100%;\n",
    "    width: 26px;\n",
    "    background: #00b8d7;\n",
    "}\n",
    "</style>"
   ]
  },
  {
   "cell_type": "markdown",
   "metadata": {},
   "source": [
    "# Linear spaces"
   ]
  },
  {
   "cell_type": "markdown",
   "metadata": {},
   "source": [
    "#### Prove that:\n",
    "For every linear function $f:V \\to U$ between vector spaces $V$ and $U$ on the real numbers, every sequence of vectors $v_1, v_2, \\dots v_m \\in V$ and every scalars $a_1, a_2, \\dots, a_m \\in \\mathbb{R}$:\n",
    "<br>\n",
    "$$f(a_1v_1 + a_2v_2 + \\dots + a_mv_m) = a_1f(v_1) + a_2f(v_2) + \\dots + a_mf(v_m)$$"
   ]
  },
  {
   "cell_type": "markdown",
   "metadata": {},
   "source": [
    "<div class=\"solution\">\n",
    "We can use the following two properties of linear functions:\n",
    "<ul>\n",
    "    <li>$f(u + w) = f(u) + f(w)$</li>\n",
    "    <li>$f(\\alpha u) = \\alpha f(u)$</li>\n",
    "</ul>\n",
    "$f(a_1v_1 + a_2v_2 + \\dots + a_mv_m) = f(a_1v_1)+ f(a_2v_2 + \\dots + a_mv_m) = f(a_1v_1)+ f(a_2v_2) + f(a_3v_3 + \\dots + a_mv_m) = f(a_1v_1)+ f(a_2v_2) + \\dots + f(a_mv_m) = a_1f(v_1) + a_2f(v_2) + \\dots + a_mf(v_m)$\n",
    "</div>"
   ]
  }
 ],
 "metadata": {
  "kernelspec": {
   "display_name": "Python 3",
   "language": "python",
   "name": "python3"
  },
  "language_info": {
   "codemirror_mode": {
    "name": "ipython",
    "version": 3
   },
   "file_extension": ".py",
   "mimetype": "text/x-python",
   "name": "python",
   "nbconvert_exporter": "python",
   "pygments_lexer": "ipython3",
   "version": "3.7.5"
  }
 },
 "nbformat": 4,
 "nbformat_minor": 4
}
