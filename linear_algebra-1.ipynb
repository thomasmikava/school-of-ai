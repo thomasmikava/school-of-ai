{
 "cells": [
  {
   "cell_type": "code",
   "execution_count": 4,
   "metadata": {},
   "outputs": [],
   "source": [
    "%load_ext autoreload\n",
    "%autoreload 2\n",
    "\n",
    "%matplotlib inline"
   ]
  },
  {
   "cell_type": "code",
   "execution_count": 1,
   "metadata": {},
   "outputs": [
    {
     "data": {
      "text/html": [
       "<style>\n",
       ".solution {\n",
       "    border: 2px solid #00b8d7;\n",
       "    border-radius: 5px;\n",
       "    padding: 5px 5px 5px 20px;\n",
       "    position: relative;\n",
       "    overflow: hidden;\n",
       "}\n",
       ".solution::before {\n",
       "    content: \"\";\n",
       "    position: absolute;\n",
       "    left: 0;\n",
       "    top: 0;\n",
       "    transform: translate(-50%);\n",
       "    border-radius: 100%;\n",
       "    height: 100%;\n",
       "    width: 26px;\n",
       "    background: #00b8d7;\n",
       "}\n",
       "</style>\n"
      ],
      "text/plain": [
       "<IPython.core.display.HTML object>"
      ]
     },
     "metadata": {},
     "output_type": "display_data"
    }
   ],
   "source": [
    "%%html\n",
    "<style>\n",
    ".solution {\n",
    "    border: 2px solid #00b8d7;\n",
    "    border-radius: 5px;\n",
    "    padding: 5px 5px 5px 20px;\n",
    "    position: relative;\n",
    "    overflow: hidden;\n",
    "}\n",
    ".solution::before {\n",
    "    content: \"\";\n",
    "    position: absolute;\n",
    "    left: 0;\n",
    "    top: 0;\n",
    "    transform: translate(-50%);\n",
    "    border-radius: 100%;\n",
    "    height: 100%;\n",
    "    width: 26px;\n",
    "    background: #00b8d7;\n",
    "}\n",
    "</style>"
   ]
  },
  {
   "cell_type": "markdown",
   "metadata": {},
   "source": [
    "# Set theory basics"
   ]
  },
  {
   "cell_type": "markdown",
   "metadata": {},
   "source": [
    "Prove that $A \\subseteq A$"
   ]
  },
  {
   "cell_type": "markdown",
   "metadata": {},
   "source": [
    "<div class=\"solution\">\n",
    "$\\forall x\\in A \\; x \\in A$ and $\\forall x \\notin A \\;x \\notin A$\n",
    "</div>"
   ]
  },
  {
   "cell_type": "markdown",
   "metadata": {},
   "source": [
    "Proper subset $B \\subset A$ if for every element $b \\in B$: $A \\in A$ and there exists $a \\in a$ such that: $a \\notin B$, or in other words $B \\subseteq A$ and $B \\neq A$"
   ]
  },
  {
   "cell_type": "markdown",
   "metadata": {},
   "source": [
    "If $A \\subseteq B$ and $B \\subseteq A$ $\\to$ $A = B$"
   ]
  },
  {
   "cell_type": "markdown",
   "metadata": {},
   "source": [
    "<div class=\"solution\">\n",
    "If $A \\neq B,$ then $\\exists x \\in A \\; x \\notin B$ or $\\exists y \\in B \\; y \\notin A $<br />\n",
    "but the there cannot exist such x since $A \\subseteq B$ and there cannot exist such y, since $B \\subseteq A$<br/>\n",
    "Thus, $A = B$\n",
    "</div>"
   ]
  },
  {
   "cell_type": "markdown",
   "metadata": {},
   "source": [
    "Give an exmaples of two sets $A$ and $B$ for which $A \\cap B = \\emptyset$"
   ]
  },
  {
   "cell_type": "markdown",
   "metadata": {},
   "source": [
    "<div class=\"solution\">\n",
    "$A = \\{1, 2\\}$ and $B = \\{2, 3\\}$\n",
    "</div>"
   ]
  },
  {
   "cell_type": "markdown",
   "metadata": {},
   "source": [
    "Prove that if $B \\subset A$ then $A \\cap B = B$"
   ]
  },
  {
   "cell_type": "markdown",
   "metadata": {},
   "source": [
    "<div class=\"solution\">\n",
    "let $C = A \\cap B$<br/>\n",
    "from the definition, $C \\subseteq A$ and $C \\subseteq B$<br/>\n",
    "Thus we have to prove that the statement $\\exists x \\in B \\; x \\notin C$ is false<br/>\n",
    "Let's prove by contradiction. If there exists such x, $x \\in B$ and since $B \\subset A$, $x \\in A$. $x \\in B$ and $x \\in A \\to x \\in C$, which is a contradiction. thus $C = A\\cap B = B$\n",
    "</div>"
   ]
  },
  {
   "cell_type": "markdown",
   "metadata": {},
   "source": [
    "Prove that $A \\cap B = B \\cap A$"
   ]
  },
  {
   "cell_type": "markdown",
   "metadata": {},
   "source": [
    "<div class=\"solution\">\n",
    "$A \\cap B = \\{x | x\\in A \\; \\text{and}\\; x \\in B\\}$<br/>\n",
    "on the other hand, $B \\cap A = \\{x | x\\in B \\; \\text{and}\\; x \\in A\\}$<br/>\n",
    "Since $x\\in A \\; \\text{and}\\; x \\in B$ is equivalent to $x\\in B \\; \\text{and}\\; x \\in A, \\;$ $A \\cap B= B\\cap A$\n",
    "</div>"
   ]
  },
  {
   "cell_type": "markdown",
   "metadata": {},
   "source": [
    "Prove that if $B \\subset A$ then $A \\cup B = A$"
   ]
  },
  {
   "cell_type": "markdown",
   "metadata": {},
   "source": [
    "<div class=\"solution\">\n",
    "let $C = A \\cup B$<br/>\n",
    "$A \\subseteq A \\cup B \\to A \\subseteq C$<br/>\n",
    "Now we just have to show that $C \\subseteq A$<br/>\n",
    "Let's prove by contradiction. if $C \\nsubseteq A, \\exists x \\in C \\; x \\notin A $<br/>\n",
    "Thus $x \\in B$, since $x \\notin A$ and $x \\in A \\cup B$<br/>\n",
    "However, sinc $B \\subset A$, above condition cannot be true. We came into contradiction. Therefore, $C = A \\cup B = A$\n",
    "</div>"
   ]
  },
  {
   "cell_type": "markdown",
   "metadata": {},
   "source": [
    "Prove that $A \\cup B = B \\cup A$"
   ]
  },
  {
   "cell_type": "markdown",
   "metadata": {},
   "source": [
    "<div class=\"solution\">\n",
    "$A \\cup B = \\{x | x\\in A \\; \\text{or}\\; x \\in B\\}$<br/>\n",
    "on the other hand, $B \\cup A = \\{x | x\\in B \\; \\text{or}\\; x \\in A\\}$<br/>\n",
    "Since $x\\in A \\; \\text{or}\\; x \\in B$ is equivalent to $x\\in B \\; \\text{or}\\; x \\in A, \\;$ $A \\cup B= B\\cup A$\n",
    "</div>"
   ]
  },
  {
   "cell_type": "markdown",
   "metadata": {},
   "source": [
    "Prove that:\n",
    "- for every injection $m:A \\to B$ and pair of functions $f, g :C \\to A$: if $m \\circ f = m \\circ g$ then $f = g$ and vice-versa\n",
    "- for every surjection $e:A \\to B$ and every pair of functions $f, g :B \\to C$: if $f \\circ e = g \\circ e$ then $f = g$ and vice-versa"
   ]
  },
  {
   "cell_type": "markdown",
   "metadata": {},
   "source": [
    "<div class=\"solution\">\n",
    "suppose that $f$ and $g$ are not equal. Then there exists such $x_0$ that $m(f(x_0)) = m(g(x_0))$ but $f(x_0) \\neq g(x_0)$. let $t_0 = f(x_0)$ and $w_0 = g(x_0)$. $t_0 \\neq w_0$ and $m(t_0) = m(w_0)$. Thus $m$ cannot be injection. Contradiction. Therefore, $f$ and $g$ are equal. For proving vice-versa, we would prove backwards\n",
    "</div>"
   ]
  },
  {
   "cell_type": "markdown",
   "metadata": {},
   "source": [
    "<div class=\"solution\">\n",
    "suppose that $f$ and $g$ are not equal. Then there exists such $y_0 \\in B$ that $f(y_0) \\neq g(y_0)$. Since $e$ is surjection, then there exists such $x_0 \\in A$ that $e(x_0) = y_0$. From the statement, $f(e(x_0)) = g(e(x_0))$, thus $f(y_0) = g(y_0)$. Contradiction. Therefore, $f = g$. For proving vice-versa, we would prove backwards\n",
    "</div>"
   ]
  },
  {
   "cell_type": "markdown",
   "metadata": {},
   "source": [
    "Prove that \n",
    "- composition of injections is injection itself\n",
    "- composition of surjections is surjection itself\n",
    "- composition of bijections is bijection itself\n",
    "<br>\n",
    "or give a counterexamples"
   ]
  },
  {
   "cell_type": "markdown",
   "metadata": {},
   "source": [
    "<div class=\"solution\">\n",
    "<ul>\n",
    "    <li>if $f(g(a^{'})) = f(g(a^{''}))$ then from the injection of $f$ we get that $g(a^{'}) = g(a^{''})$ and from the injection of $g$ we get that $a^{'} = a^{''}$. Therefore, composition of $f$ and $g$ is also injection</li>\n",
    "    <li>we have to show that  $\\forall y \\exists x $ such that $y = f(g(x))$. Since $f$ is surjective, there exists $w$ that $y=f(w)$ and since $g$ is surjective, there exists such $x$ that $w=g(x)$. Thus for every $y$ we can find such $x$ and compositoin is also surjective</li>\n",
    "    <li>Since composition of injections is injection and composition of surjections is surjection, compoosition of bijections will be bijection</li>\n",
    "</ul>\n",
    "</div>"
   ]
  },
  {
   "cell_type": "markdown",
   "metadata": {},
   "source": [
    "Prove that for each set $A$:\n",
    "- $A \\cong A$\n",
    "- if $B \\cong A$ then $B \\cong A$ for every pair of sets $A$ and $B$\n",
    "- if $A \\cong B$ and $B \\cong C$ then $A \\cong C$ for every triplet $A$, $B$ and $C$"
   ]
  },
  {
   "cell_type": "markdown",
   "metadata": {},
   "source": [
    "<div class=\"solution\">\n",
    "<ul>\n",
    "    <li>Since $A=A$ there exists relation between each element of left hand-side set to right hand-side set and they are equivalence</li>\n",
    "    <li>Probably type and there must be $A \\cong B$ instead of $B \\cong A$. If we can match a to b, we can also match b to a and bijection will not be violated</li>\n",
    "</ul>\n",
    "</div>"
   ]
  },
  {
   "cell_type": "markdown",
   "metadata": {},
   "source": [
    "Prove that there exists a bijection between set of natural and even numbers"
   ]
  },
  {
   "cell_type": "markdown",
   "metadata": {},
   "source": [
    "<div class=\"solution\">\n",
    "For every natural number we can correspond 2 times that number\n",
    "</div>"
   ]
  },
  {
   "cell_type": "markdown",
   "metadata": {},
   "source": [
    "Prove thet if we have a bijection between two finite sets than they have an equal number of elements"
   ]
  },
  {
   "cell_type": "markdown",
   "metadata": {},
   "source": [
    "<div class=\"solution\">\n",
    "Otherwise injection will be violated and there won't be bijection between these two sets\n",
    "</div>"
   ]
  },
  {
   "cell_type": "markdown",
   "metadata": {},
   "source": [
    "Prove that $A \\times B \\cong B \\times A$"
   ]
  },
  {
   "cell_type": "markdown",
   "metadata": {},
   "source": [
    "<div class=\"solution\">\n",
    "For every (a, b) from $A \\times B$ we can match (b, a) from $B \\times A$\n",
    "</div>"
   ]
  },
  {
   "cell_type": "markdown",
   "metadata": {},
   "source": [
    "Prove that:\n",
    "$$A \\cap (B \\cup C)=(A \\cap B) \\cup (A\\cap C)$$\n",
    "$$A \\cup (B \\cap C)=(A \\cup B) \\cap (A\\cup C)$$"
   ]
  },
  {
   "cell_type": "markdown",
   "metadata": {},
   "source": [
    "<div class=\"solution\">\n",
    "Let $Q = A \\cap B$, $W = A \\cap C$ and $E = B \\cup C$<br/>\n",
    "If some $a \\in Q \\cup W$, then $a \\in Q$ or $a \\in W$. If $a \\in Q$, then $a \\in A$ and $a \\in B$, thus $a \\in A \\cap E$. Otherwiese,  $a \\in A$ and $a \\in C$, thus $a \\in A \\cap E$. Either way, $a \\in A \\cap E$<br/>\n",
    "Therefore, $A \\cap E  \\subseteq  Q \\cup W$. By similar ways, we will show that $Q \\cup W \\subseteq A \\cap E$. Therefore, $Q \\cup W = A \\cap E$. That is, $A \\cap (B \\cup C)=(A \\cap B) \\cup (A\\cap C)$. Second equation is very similar and can be solved in same ways\n",
    "</div>"
   ]
  },
  {
   "cell_type": "markdown",
   "metadata": {},
   "source": [
    "# Operations on Matrices"
   ]
  },
  {
   "cell_type": "markdown",
   "metadata": {},
   "source": [
    "Prove that $a + X = X + a$ and $aX = Xa$ for every scalar $a \\in \\mathbb{R}$ and matrix $X \\in \\mathbb{R}^{n \\times m}$"
   ]
  },
  {
   "cell_type": "markdown",
   "metadata": {},
   "source": [
    "<div class=\"solution\">\n",
    "For calculating $a + X$ we do very same operations as for calculating $X + a$. For every element of $X$ we add scalar $a$. Either way, we get same result as we do exact same operations. $X_{i,j}+a=a+X_{i,j}$. Thus $a + X = X + a$<br/>\n",
    "Same can be said for $aX and Xa$. For every element of $X$, we multiply $X_{i,j}$ by $a$. $X_{i,j}a=aX_{i,j}$. Thus $aX=Xa$\n",
    "</div>"
   ]
  },
  {
   "cell_type": "markdown",
   "metadata": {},
   "source": [
    "Prove that $uv^{T} = vu^{T}$ for each $v, u \\in \\mathbb{R}^{n}$"
   ]
  },
  {
   "cell_type": "markdown",
   "metadata": {},
   "source": [
    "<div class=\"solution\">\n",
    "$uv^{T} = u_1v_1 + u_2v_2+...+u_nv_n = v_1u_1 + v_2u_2+...+v_nu_n = vu^{T}$\n",
    "</div>"
   ]
  },
  {
   "cell_type": "markdown",
   "metadata": {},
   "source": [
    "Prove that $(AB)^{T} = B^{T}A^{T}$ for each pair of matrices $A, B \\in \\mathbb{R}^{n \\times m}$"
   ]
  },
  {
   "cell_type": "markdown",
   "metadata": {},
   "source": [
    "<div class=\"solution\">\n",
    "Let $C = AB$<br/>\n",
    "$C_{i, j} = \\sum_{k = 1}^{n}{A_{i, k}B_{k, j}}$<br/>\n",
    "$B^T_{i,j}=B_{j,i}$ and $A^T_{i,j}=A_{j,i}$<br/>\n",
    "Let $G = B^TA^T$<br/> $G_{i,j}= \\sum_{k = 1}^{m}{B^T_{k, j}A^T_{i, k}}=\\sum_{k = 1}^{n}{A_{k, i}B_{j, k}}=C_{j,i}=C^T_{i,j}$<br/>\n",
    "Thus $G =  B^TA^T = C^T = (AB)^T$\n",
    "</div>"
   ]
  },
  {
   "cell_type": "markdown",
   "metadata": {},
   "source": [
    "## Example 2"
   ]
  },
  {
   "cell_type": "code",
   "execution_count": 11,
   "metadata": {},
   "outputs": [],
   "source": [
    "import numpy as np\n",
    "import math\n",
    "sig = np.vectorize(lambda x: 1 / (1 + math.exp(-x)))"
   ]
  },
  {
   "cell_type": "code",
   "execution_count": 6,
   "metadata": {},
   "outputs": [],
   "source": [
    "W = np.array([20, 20]) # Weights\n",
    "b = np.array([-30]) # bias"
   ]
  },
  {
   "cell_type": "code",
   "execution_count": 7,
   "metadata": {},
   "outputs": [],
   "source": [
    "ff = lambda _X, _W, _b: sig(np.dot(_W.T, _X) + _b)"
   ]
  },
  {
   "cell_type": "code",
   "execution_count": 8,
   "metadata": {},
   "outputs": [],
   "source": [
    "BA = [[0, 0], [0, 1], [1, 0], [1, 1]]"
   ]
  },
  {
   "cell_type": "markdown",
   "metadata": {},
   "source": [
    "Write combination for $XOR$ calculation"
   ]
  },
  {
   "cell_type": "code",
   "execution_count": 9,
   "metadata": {},
   "outputs": [],
   "source": [
    "b = np.array([-20])"
   ]
  },
  {
   "cell_type": "code",
   "execution_count": 12,
   "metadata": {},
   "outputs": [
    {
     "name": "stdout",
     "output_type": "stream",
     "text": [
      "[0, 0] [0.]\n",
      "[0, 1] [1.]\n",
      "[1, 0] [1.]\n",
      "[1, 1] [0.]\n"
     ]
    }
   ],
   "source": [
    "for ba in BA:\n",
    "    print(ba, np.floor(abs(abs(0.5 - ff(ba, W, b)) - 0.5) + 0.5))"
   ]
  }
 ],
 "metadata": {
  "kernelspec": {
   "display_name": "Python 3",
   "language": "python",
   "name": "python3"
  },
  "language_info": {
   "codemirror_mode": {
    "name": "ipython",
    "version": 3
   },
   "file_extension": ".py",
   "mimetype": "text/x-python",
   "name": "python",
   "nbconvert_exporter": "python",
   "pygments_lexer": "ipython3",
   "version": "3.7.5"
  }
 },
 "nbformat": 4,
 "nbformat_minor": 4
}
