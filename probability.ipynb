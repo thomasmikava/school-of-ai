{
 "cells": [
  {
   "cell_type": "code",
   "execution_count": null,
   "metadata": {},
   "outputs": [],
   "source": [
    "%load_ext autoreload\n",
    "%autoreload 2\n",
    "\n",
    "%matplotlib inline"
   ]
  },
  {
   "cell_type": "code",
   "execution_count": 1,
   "metadata": {},
   "outputs": [
    {
     "data": {
      "text/html": [
       "<style>\n",
       ".solution {\n",
       "    border: 2px solid #00b8d7;\n",
       "    border-radius: 5px;\n",
       "    padding: 5px 5px 5px 20px;\n",
       "    position: relative;\n",
       "    overflow: hidden;\n",
       "}\n",
       ".solution::before {\n",
       "    content: \"\";\n",
       "    position: absolute;\n",
       "    left: 0;\n",
       "    top: 0;\n",
       "    transform: translate(-50%);\n",
       "    border-radius: 100%;\n",
       "    height: 100%;\n",
       "    width: 26px;\n",
       "    background: #00b8d7;\n",
       "}\n",
       "</style>\n"
      ],
      "text/plain": [
       "<IPython.core.display.HTML object>"
      ]
     },
     "metadata": {},
     "output_type": "display_data"
    }
   ],
   "source": [
    "%%html\n",
    "<style>\n",
    ".solution {\n",
    "    border: 2px solid #00b8d7;\n",
    "    border-radius: 5px;\n",
    "    padding: 5px 5px 5px 20px;\n",
    "    position: relative;\n",
    "    overflow: hidden;\n",
    "}\n",
    ".solution::before {\n",
    "    content: \"\";\n",
    "    position: absolute;\n",
    "    left: 0;\n",
    "    top: 0;\n",
    "    transform: translate(-50%);\n",
    "    border-radius: 100%;\n",
    "    height: 100%;\n",
    "    width: 26px;\n",
    "    background: #00b8d7;\n",
    "}\n",
    "</style>"
   ]
  },
  {
   "cell_type": "markdown",
   "metadata": {},
   "source": [
    "## Probability"
   ]
  },
  {
   "cell_type": "markdown",
   "metadata": {},
   "source": [
    "<div class=\"solution\">\n",
    "$P(A \\cup B) = \\frac{|A \\cup B |}{|Q|} = \\frac{|A| + |B| - |A \\cap B|}{|Q|} = \\frac{|A|}{|Q|} + \\frac{|B|}{|Q|} + \\frac{|A \\cap B|}{|Q|} = P(A) + P(B) - P(A \\cap B)$\n",
    "</div>"
   ]
  },
  {
   "cell_type": "markdown",
   "metadata": {},
   "source": [
    "## Variance and covariance"
   ]
  },
  {
   "cell_type": "markdown",
   "metadata": {},
   "source": [
    "Variance (spread) of a distribution:\n",
    "\n",
    "$$\n",
    "\\sigma^2 = \\operatorname{Var}(X)=  \\operatorname{E}[X - \\operatorname{E}[X]]^2\n",
    "$$\n",
    "<br>\n",
    "Prove\n",
    "$$\n",
    "\\sigma^2 = \\operatorname{E}[X^2] - (\\operatorname{E}[X])^2\n",
    "$$\n",
    "Assuming that expectation exists\n",
    "<br>\n",
    "Denoted by $\\sigma^2$\n",
    "<br>"
   ]
  }
 ],
 "metadata": {
  "kernelspec": {
   "display_name": "Python 3",
   "language": "python",
   "name": "python3"
  },
  "language_info": {
   "codemirror_mode": {
    "name": "ipython",
    "version": 3
   },
   "file_extension": ".py",
   "mimetype": "text/x-python",
   "name": "python",
   "nbconvert_exporter": "python",
   "pygments_lexer": "ipython3",
   "version": "3.7.5"
  }
 },
 "nbformat": 4,
 "nbformat_minor": 4
}
