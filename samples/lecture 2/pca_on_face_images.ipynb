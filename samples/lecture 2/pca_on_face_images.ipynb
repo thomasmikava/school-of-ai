{
 "cells": [
  {
   "cell_type": "markdown",
   "metadata": {},
   "source": [
    "# Import libraries\n",
    "- numpy - for fast computations\n",
    "- scipy - for loading matlab files (.mat extension)\n",
    "- matplotlib - for plotting images"
   ]
  },
  {
   "cell_type": "code",
   "execution_count": null,
   "metadata": {},
   "outputs": [],
   "source": [
    "import numpy as np\n",
    "from numpy.linalg import svd\n",
    "from scipy.io import loadmat\n",
    "import matplotlib.pyplot as plt"
   ]
  },
  {
   "cell_type": "markdown",
   "metadata": {},
   "source": [
    "# Define Main Functions"
   ]
  },
  {
   "cell_type": "markdown",
   "metadata": {},
   "source": [
    "- featureNormalize - which normalizes matrix values to be normally distributed (Mean=0, STD=1)\n",
    "- pca - does Singular Value Decomposition and calculates pca for given matrix\n",
    "- projectData - projects data on basis which consists of top K meaningful Eigenvectors\n",
    "- recoverData - recovers data after projection and generates image approximations"
   ]
  },
  {
   "cell_type": "code",
   "execution_count": null,
   "metadata": {},
   "outputs": [],
   "source": [
    "def featureNormalize(X):\n",
    "    \"\"\"\n",
    "    Returns a normalized version of X where the mean value of each feature is 0 and the standard deviation is 1.\n",
    "    \"\"\"\n",
    "    # calculates mean and standard deviation\n",
    "    mu = np.mean(X,axis=0)\n",
    "    sigma = np.std(X,axis=0)\n",
    "    \n",
    "    # normalized each matrix element to have them normally distributed N(0,1) (mean=0, std=1)\n",
    "    X_norm = (X - mu)/sigma\n",
    "    \n",
    "    return X_norm, mu , sigma"
   ]
  },
  {
   "cell_type": "code",
   "execution_count": null,
   "metadata": {},
   "outputs": [],
   "source": [
    "def pca(X):\n",
    "    \"\"\"\n",
    "    Computes eigenvectors of the covariance matrix of X\n",
    "    \"\"\"\n",
    "    m,n = X.shape[0], X.shape[1]\n",
    "    \n",
    "    sigma = 1/m * X.T @ X\n",
    "    \n",
    "    U,S,V = svd(sigma)\n",
    "    \n",
    "    return U,S,V"
   ]
  },
  {
   "cell_type": "code",
   "execution_count": null,
   "metadata": {},
   "outputs": [],
   "source": [
    "def projectData(X, U, K):\n",
    "    \"\"\"\n",
    "    Computes the reduced data representation when projecting only on to the top k eigenvectors\n",
    "    \"\"\"\n",
    "    m = X.shape[0]\n",
    "    U_reduced = U[:,:K]\n",
    "    Z = np.zeros((m,K))\n",
    "    \n",
    "    for i in range(m):\n",
    "        for j in range(K):\n",
    "            Z[i,j] = X[i,:] @ U_reduced[:,j]\n",
    "    \n",
    "    return Z     # Project the data onto K=1 dimension"
   ]
  },
  {
   "cell_type": "code",
   "execution_count": null,
   "metadata": {},
   "outputs": [],
   "source": [
    "def recoverData(Z, U, K):\n",
    "    \"\"\"\n",
    "    Recovers an approximation of the original data when using the projected data\n",
    "    \"\"\"\n",
    "    m,n = Z.shape[0],U.shape[0]\n",
    "    X_rec = np.zeros((m,n))\n",
    "    U_reduced = U[:,:K]\n",
    "    \n",
    "    for i in range(m):\n",
    "        X_rec[i,:] = Z[i,:] @ U_reduced.T\n",
    "    \n",
    "    return X_rec"
   ]
  },
  {
   "cell_type": "markdown",
   "metadata": {},
   "source": [
    "# Load and visualize the Face image dataset"
   ]
  },
  {
   "cell_type": "code",
   "execution_count": null,
   "metadata": {},
   "outputs": [],
   "source": [
    "mat = loadmat(\"ex7faces.mat\")\n",
    "X = mat[\"X\"]"
   ]
  },
  {
   "cell_type": "markdown",
   "metadata": {},
   "source": [
    "Each image size is 32x32 and they are flattened in 1024 size vector. We have 5K images in total."
   ]
  },
  {
   "cell_type": "code",
   "execution_count": null,
   "metadata": {},
   "outputs": [],
   "source": [
    "X.shape"
   ]
  },
  {
   "cell_type": "markdown",
   "metadata": {},
   "source": [
    "## create subplots to show multiple images\n",
    "1. unflatten image vectors\n",
    "2. plot images\n",
    "3. turn off axis to have less noise on plots"
   ]
  },
  {
   "cell_type": "code",
   "execution_count": null,
   "metadata": {},
   "outputs": [],
   "source": [
    "# nrows, ncols define matrix of suplots dimensions (matrix of images to plot)\n",
    "# figsize defines the size of subplots (entire figure).\n",
    "fig, ax = plt.subplots(nrows=10,ncols=10,figsize=(18, 18))\n",
    "\n",
    "for i in range(0,100,10):\n",
    "    for j in range(10):\n",
    "        # unflatten 1024 size vector in 32x32 to get right image matrix\n",
    "        reshaped_image = X[i+j,:].reshape(32,32,order=\"F\")\n",
    "        \n",
    "        # show reshaped image\n",
    "        ax[int(i/10),j].imshow(reshaped_image,cmap=\"gray\")\n",
    "        \n",
    "        # axis off to remove unnecessary axis values which is turned on by default\n",
    "        ax[int(i/10),j].axis(\"off\")"
   ]
  },
  {
   "cell_type": "markdown",
   "metadata": {},
   "source": [
    "# Normalize matrix of flattened images"
   ]
  },
  {
   "cell_type": "code",
   "execution_count": null,
   "metadata": {},
   "outputs": [],
   "source": [
    "X_norm, _ , _ = featureNormalize(X)"
   ]
  },
  {
   "cell_type": "markdown",
   "metadata": {},
   "source": [
    "### Run PCA"
   ]
  },
  {
   "cell_type": "markdown",
   "metadata": {},
   "source": [
    "**U** and **V** are **left singular** and **right singular** vectors\n",
    "\n",
    "**S** is known as singular values vector which in fact is a representation of diagonal matrix"
   ]
  },
  {
   "cell_type": "code",
   "execution_count": null,
   "metadata": {},
   "outputs": [],
   "source": [
    "U, S, V = pca(X_norm)"
   ]
  },
  {
   "cell_type": "code",
   "execution_count": null,
   "metadata": {},
   "outputs": [],
   "source": [
    "U.shape, S.shape, V.shape"
   ]
  },
  {
   "cell_type": "markdown",
   "metadata": {},
   "source": [
    "# Show Singular Values"
   ]
  },
  {
   "cell_type": "markdown",
   "metadata": {},
   "source": [
    "## All singular values"
   ]
  },
  {
   "cell_type": "code",
   "execution_count": null,
   "metadata": {},
   "outputs": [],
   "source": [
    "plt.bar(range(S.shape[0]), S)"
   ]
  },
  {
   "cell_type": "markdown",
   "metadata": {},
   "source": [
    "## Top 50 singular values"
   ]
  },
  {
   "cell_type": "code",
   "execution_count": null,
   "metadata": {},
   "outputs": [],
   "source": [
    "plt.bar(range(50), S[:50])"
   ]
  },
  {
   "cell_type": "markdown",
   "metadata": {},
   "source": [
    "# Below is the visualization of 36 principal components that describe the largest variations in the dataset"
   ]
  },
  {
   "cell_type": "code",
   "execution_count": null,
   "metadata": {},
   "outputs": [],
   "source": [
    "# we are taking first 36 important eigen vectors since we already saw that they \n",
    "# are sorted by singular values in decreasing order.\n",
    "# the higher singular value the higher variation it generates in data. \n",
    "\n",
    "U_reduced = U[:,0:36].T\n",
    "\n",
    "# plotting compressed images\n",
    "fig2, ax2 = plt.subplots(6, 6, figsize=(18,18))\n",
    "\n",
    "for i in range(0,36,6):\n",
    "    for j in range(6):\n",
    "        reshaped_reduced_image = U_reduced[i+j,:].reshape(32,32,order=\"F\")\n",
    "        ax2[int(i/6),j].imshow(reshaped_reduced_image,cmap=\"gray\")\n",
    "        ax2[int(i/6),j].axis(\"off\")"
   ]
  },
  {
   "cell_type": "code",
   "execution_count": null,
   "metadata": {
    "scrolled": true
   },
   "outputs": [],
   "source": [
    "# we are taking first 36 important eigen vectors since we already saw that they \n",
    "# are sorted by singular values in decreasing order.\n",
    "# the higher singular value the higher variation it generates in data. \n",
    "\n",
    "U_reduced = U[:,4:40].T\n",
    "\n",
    "# plotting compressed images\n",
    "fig2, ax2 = plt.subplots(6, 6, figsize=(18,18))\n",
    "\n",
    "for i in range(0,36,6):\n",
    "    for j in range(6):\n",
    "        reshaped_reduced_image = U_reduced[i+j,:].reshape(32,32,order=\"F\")\n",
    "        ax2[int(i/6),j].imshow(reshaped_reduced_image,cmap=\"gray\")\n",
    "        ax2[int(i/6),j].axis(\"off\")"
   ]
  },
  {
   "cell_type": "markdown",
   "metadata": {},
   "source": [
    "# Let's try to take 36 last principal components instead of first. It should give us worst results."
   ]
  },
  {
   "cell_type": "code",
   "execution_count": null,
   "metadata": {},
   "outputs": [],
   "source": [
    "U_reduced = U[:,-36:].T\n",
    "\n",
    "# plotting compressed images\n",
    "fig2, ax2 = plt.subplots(6, 6, figsize=(18,18))\n",
    "\n",
    "for i in range(0,36,6):\n",
    "    for j in range(6):\n",
    "        reshaped_reduced_image = U_reduced[i+j,:].reshape(32,32,order=\"F\")\n",
    "        ax2[int(i/6),j].imshow(reshaped_reduced_image,cmap=\"gray\")\n",
    "        ax2[int(i/6),j].axis(\"off\")"
   ]
  },
  {
   "cell_type": "markdown",
   "metadata": {},
   "source": [
    "# Let's project the data onto the first 100 principal components and recover back. Try to understand what is lost in the dimensionality reduction process."
   ]
  },
  {
   "cell_type": "code",
   "execution_count": null,
   "metadata": {},
   "outputs": [],
   "source": [
    "K = 100\n",
    "Z = projectData(X_norm, U, K)\n",
    "print(\"The projected data Z has a size of:\", Z.shape)"
   ]
  },
  {
   "cell_type": "markdown",
   "metadata": {},
   "source": [
    "### Data reconstruction"
   ]
  },
  {
   "cell_type": "code",
   "execution_count": null,
   "metadata": {},
   "outputs": [],
   "source": [
    "X_rec  = recoverData(Z, U, K)"
   ]
  },
  {
   "cell_type": "markdown",
   "metadata": {},
   "source": [
    "### Visualize the reconstructed data"
   ]
  },
  {
   "cell_type": "code",
   "execution_count": null,
   "metadata": {
    "scrolled": false
   },
   "outputs": [],
   "source": [
    "# plot reconstructed images\n",
    "fig3, ax3 = plt.subplots(10,10,figsize=(18, 18))\n",
    "\n",
    "for i in range(0,100,10):\n",
    "    for j in range(10):\n",
    "        reconstructed_reshaped_img = X_rec[i+j,:].reshape(32,32,order=\"F\")\n",
    "        ax3[int(i/10),j].imshow(reconstructed_reshaped_img,cmap=\"gray\")\n",
    "        ax3[int(i/10),j].axis(\"off\")"
   ]
  },
  {
   "cell_type": "code",
   "execution_count": null,
   "metadata": {},
   "outputs": [],
   "source": [
    "# we are taking first 36 important eigen vectors since we already saw that they \n",
    "# are sorted by singular values in decreasing order.\n",
    "# the higher singular value the higher variation it generates in data. \n",
    "\n",
    "U_reduced = U[:,1:37].T\n",
    "\n",
    "# plotting compressed images\n",
    "fig2, ax2 = plt.subplots(6, 6, figsize=(18,18))\n",
    "\n",
    "for i in range(1,37,6):\n",
    "    for j in range(6):\n",
    "        reshaped_reduced_image = U_reduced[i+j,:].reshape(32,32,order=\"F\")\n",
    "        ax2[int(i/6),j].imshow(reshaped_reduced_image,cmap=\"gray\")\n",
    "        ax2[int(i/6),j].axis(\"off\")"
   ]
  },
  {
   "cell_type": "code",
   "execution_count": null,
   "metadata": {},
   "outputs": [],
   "source": []
  }
 ],
 "metadata": {
  "kernelspec": {
   "display_name": "Python 3",
   "language": "python",
   "name": "python3"
  },
  "language_info": {
   "codemirror_mode": {
    "name": "ipython",
    "version": 3
   },
   "file_extension": ".py",
   "mimetype": "text/x-python",
   "name": "python",
   "nbconvert_exporter": "python",
   "pygments_lexer": "ipython3",
   "version": "3.7.4"
  }
 },
 "nbformat": 4,
 "nbformat_minor": 2
}
