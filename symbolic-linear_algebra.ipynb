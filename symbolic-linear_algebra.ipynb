{
 "cells": [
  {
   "cell_type": "code",
   "execution_count": null,
   "metadata": {},
   "outputs": [],
   "source": [
    "%load_ext autoreload\n",
    "%autoreload 2\n",
    "\n",
    "%matplotlib inline"
   ]
  },
  {
   "cell_type": "markdown",
   "metadata": {},
   "source": [
    "## Basic setup"
   ]
  },
  {
   "cell_type": "markdown",
   "metadata": {},
   "source": [
    "Install SymPy library\n",
    "<br>\n",
    "```bash\n",
    "conda install sympy\n",
    "```"
   ]
  },
  {
   "cell_type": "markdown",
   "metadata": {},
   "source": [
    "# Initialize symbols"
   ]
  },
  {
   "cell_type": "markdown",
   "metadata": {},
   "source": [
    "SymPy is the library for symbolic calculations"
   ]
  },
  {
   "cell_type": "code",
   "execution_count": 1,
   "metadata": {},
   "outputs": [],
   "source": [
    "from sympy import *"
   ]
  },
  {
   "cell_type": "code",
   "execution_count": 2,
   "metadata": {},
   "outputs": [],
   "source": [
    "a11, a12, a13, a21, a22, a23, a31, a32, a33 = symbols('a11 a12 a13 a21 a22 a23 a31 a32 a33')"
   ]
  },
  {
   "cell_type": "code",
   "execution_count": 3,
   "metadata": {},
   "outputs": [
    {
     "data": {
      "text/plain": [
       "(a11, a12, a13, a21, a22, a23, a31, a32, a33)"
      ]
     },
     "execution_count": 3,
     "metadata": {},
     "output_type": "execute_result"
    }
   ],
   "source": [
    "a11, a12, a13, a21, a22, a23, a31, a32, a33"
   ]
  },
  {
   "cell_type": "markdown",
   "metadata": {},
   "source": [
    "Initialize matrix with symbols"
   ]
  },
  {
   "cell_type": "code",
   "execution_count": 4,
   "metadata": {},
   "outputs": [],
   "source": [
    "M = Matrix([[a11, a12, a13], [a21, a22, a23], [a31, a32, a33]])"
   ]
  },
  {
   "cell_type": "code",
   "execution_count": 5,
   "metadata": {},
   "outputs": [
    {
     "data": {
      "text/latex": [
       "$\\displaystyle \\left[\\begin{matrix}a_{11} & a_{12} & a_{13}\\\\a_{21} & a_{22} & a_{23}\\\\a_{31} & a_{32} & a_{33}\\end{matrix}\\right]$"
      ],
      "text/plain": [
       "Matrix([\n",
       "[a11, a12, a13],\n",
       "[a21, a22, a23],\n",
       "[a31, a32, a33]])"
      ]
     },
     "execution_count": 5,
     "metadata": {},
     "output_type": "execute_result"
    }
   ],
   "source": [
    "M"
   ]
  },
  {
   "cell_type": "code",
   "execution_count": 6,
   "metadata": {},
   "outputs": [
    {
     "data": {
      "text/latex": [
       "$\\displaystyle a_{11} a_{22} a_{33} - a_{11} a_{23} a_{32} - a_{12} a_{21} a_{33} + a_{12} a_{23} a_{31} + a_{13} a_{21} a_{32} - a_{13} a_{22} a_{31}$"
      ],
      "text/plain": [
       "a11*a22*a33 - a11*a23*a32 - a12*a21*a33 + a12*a23*a31 + a13*a21*a32 - a13*a22*a31"
      ]
     },
     "execution_count": 6,
     "metadata": {},
     "output_type": "execute_result"
    }
   ],
   "source": [
    "M.det()"
   ]
  },
  {
   "cell_type": "code",
   "execution_count": 7,
   "metadata": {
    "scrolled": true
   },
   "outputs": [
    {
     "data": {
      "text/latex": [
       "$\\displaystyle \\left[\\begin{matrix}a_{11} & a_{21} & a_{31}\\\\a_{12} & a_{22} & a_{32}\\\\a_{13} & a_{23} & a_{33}\\end{matrix}\\right]$"
      ],
      "text/plain": [
       "Matrix([\n",
       "[a11, a21, a31],\n",
       "[a12, a22, a32],\n",
       "[a13, a23, a33]])"
      ]
     },
     "execution_count": 7,
     "metadata": {},
     "output_type": "execute_result"
    }
   ],
   "source": [
    "M.T"
   ]
  },
  {
   "cell_type": "markdown",
   "metadata": {},
   "source": [
    "Define second other simbolsm and other matrix"
   ]
  },
  {
   "cell_type": "code",
   "execution_count": 8,
   "metadata": {},
   "outputs": [],
   "source": [
    "b11, b12, b13, b21, b22, b23, b31, b32, b33 = symbols('b11 b12 b13 b21 b22 b23 b31 b32 b33')"
   ]
  },
  {
   "cell_type": "code",
   "execution_count": 9,
   "metadata": {},
   "outputs": [],
   "source": [
    "M1 = M\n",
    "M2 = Matrix([[b11, b12, b13], [b21, b22, b23], [b31, b32, b33]])"
   ]
  },
  {
   "cell_type": "code",
   "execution_count": 10,
   "metadata": {},
   "outputs": [
    {
     "data": {
      "text/latex": [
       "$\\displaystyle \\left[\\begin{matrix}b_{11} & b_{12} & b_{13}\\\\b_{21} & b_{22} & b_{23}\\\\b_{31} & b_{32} & b_{33}\\end{matrix}\\right]$"
      ],
      "text/plain": [
       "Matrix([\n",
       "[b11, b12, b13],\n",
       "[b21, b22, b23],\n",
       "[b31, b32, b33]])"
      ]
     },
     "execution_count": 10,
     "metadata": {},
     "output_type": "execute_result"
    }
   ],
   "source": [
    "M2"
   ]
  },
  {
   "cell_type": "code",
   "execution_count": 11,
   "metadata": {},
   "outputs": [
    {
     "data": {
      "text/latex": [
       "$\\displaystyle \\left[\\begin{matrix}a_{11} b_{11} + a_{12} b_{21} + a_{13} b_{31} & a_{11} b_{12} + a_{12} b_{22} + a_{13} b_{32} & a_{11} b_{13} + a_{12} b_{23} + a_{13} b_{33}\\\\a_{21} b_{11} + a_{22} b_{21} + a_{23} b_{31} & a_{21} b_{12} + a_{22} b_{22} + a_{23} b_{32} & a_{21} b_{13} + a_{22} b_{23} + a_{23} b_{33}\\\\a_{31} b_{11} + a_{32} b_{21} + a_{33} b_{31} & a_{31} b_{12} + a_{32} b_{22} + a_{33} b_{32} & a_{31} b_{13} + a_{32} b_{23} + a_{33} b_{33}\\end{matrix}\\right]$"
      ],
      "text/plain": [
       "Matrix([\n",
       "[a11*b11 + a12*b21 + a13*b31, a11*b12 + a12*b22 + a13*b32, a11*b13 + a12*b23 + a13*b33],\n",
       "[a21*b11 + a22*b21 + a23*b31, a21*b12 + a22*b22 + a23*b32, a21*b13 + a22*b23 + a23*b33],\n",
       "[a31*b11 + a32*b21 + a33*b31, a31*b12 + a32*b22 + a33*b32, a31*b13 + a32*b23 + a33*b33]])"
      ]
     },
     "execution_count": 11,
     "metadata": {},
     "output_type": "execute_result"
    }
   ],
   "source": [
    "M1 * M2"
   ]
  },
  {
   "cell_type": "markdown",
   "metadata": {},
   "source": [
    "Inverse matrix of $M \\in \\mathbb{R}^{n \\times n}$, is the matrix $M^{-1} \\in \\mathbb{R}^{n \\times n}$ for which $M^{-1}M = I$"
   ]
  },
  {
   "cell_type": "code",
   "execution_count": 12,
   "metadata": {},
   "outputs": [],
   "source": [
    "invM = M**-1"
   ]
  },
  {
   "cell_type": "code",
   "execution_count": 13,
   "metadata": {},
   "outputs": [
    {
     "data": {
      "text/latex": [
       "$\\displaystyle \\left[\\begin{matrix}\\frac{a_{11} a_{22} \\left(\\left(a_{11} a_{22} - a_{12} a_{21}\\right) \\left(a_{11} a_{33} - a_{13} a_{31}\\right) - \\left(a_{11} a_{23} - a_{13} a_{21}\\right) \\left(a_{11} a_{32} - a_{12} a_{31}\\right)\\right) - \\left(- a_{12} \\left(a_{11} a_{23} - a_{13} a_{21}\\right) + a_{13} \\left(a_{11} a_{22} - a_{12} a_{21}\\right)\\right) \\left(a_{21} \\left(a_{11} a_{32} - a_{12} a_{31}\\right) - a_{31} \\left(a_{11} a_{22} - a_{12} a_{21}\\right)\\right)}{a_{11} \\left(a_{11} a_{22} - a_{12} a_{21}\\right) \\left(\\left(a_{11} a_{22} - a_{12} a_{21}\\right) \\left(a_{11} a_{33} - a_{13} a_{31}\\right) - \\left(a_{11} a_{23} - a_{13} a_{21}\\right) \\left(a_{11} a_{32} - a_{12} a_{31}\\right)\\right)} & \\frac{- a_{11} a_{12} \\left(\\left(a_{11} a_{22} - a_{12} a_{21}\\right) \\left(a_{11} a_{33} - a_{13} a_{31}\\right) - \\left(a_{11} a_{23} - a_{13} a_{21}\\right) \\left(a_{11} a_{32} - a_{12} a_{31}\\right)\\right) + a_{11} \\left(a_{11} a_{32} - a_{12} a_{31}\\right) \\left(- a_{12} \\left(a_{11} a_{23} - a_{13} a_{21}\\right) + a_{13} \\left(a_{11} a_{22} - a_{12} a_{21}\\right)\\right)}{a_{11} \\left(a_{11} a_{22} - a_{12} a_{21}\\right) \\left(\\left(a_{11} a_{22} - a_{12} a_{21}\\right) \\left(a_{11} a_{33} - a_{13} a_{31}\\right) - \\left(a_{11} a_{23} - a_{13} a_{21}\\right) \\left(a_{11} a_{32} - a_{12} a_{31}\\right)\\right)} & - \\frac{- a_{12} \\left(a_{11} a_{23} - a_{13} a_{21}\\right) + a_{13} \\left(a_{11} a_{22} - a_{12} a_{21}\\right)}{\\left(a_{11} a_{22} - a_{12} a_{21}\\right) \\left(a_{11} a_{33} - a_{13} a_{31}\\right) - \\left(a_{11} a_{23} - a_{13} a_{21}\\right) \\left(a_{11} a_{32} - a_{12} a_{31}\\right)}\\\\\\frac{- a_{21} \\left(\\left(a_{11} a_{22} - a_{12} a_{21}\\right) \\left(a_{11} a_{33} - a_{13} a_{31}\\right) - \\left(a_{11} a_{23} - a_{13} a_{21}\\right) \\left(a_{11} a_{32} - a_{12} a_{31}\\right)\\right) - \\left(a_{11} a_{23} - a_{13} a_{21}\\right) \\left(a_{21} \\left(a_{11} a_{32} - a_{12} a_{31}\\right) - a_{31} \\left(a_{11} a_{22} - a_{12} a_{21}\\right)\\right)}{\\left(a_{11} a_{22} - a_{12} a_{21}\\right) \\left(\\left(a_{11} a_{22} - a_{12} a_{21}\\right) \\left(a_{11} a_{33} - a_{13} a_{31}\\right) - \\left(a_{11} a_{23} - a_{13} a_{21}\\right) \\left(a_{11} a_{32} - a_{12} a_{31}\\right)\\right)} & \\frac{a_{11} \\left(a_{11} a_{23} - a_{13} a_{21}\\right) \\left(a_{11} a_{32} - a_{12} a_{31}\\right) + a_{11} \\left(\\left(a_{11} a_{22} - a_{12} a_{21}\\right) \\left(a_{11} a_{33} - a_{13} a_{31}\\right) - \\left(a_{11} a_{23} - a_{13} a_{21}\\right) \\left(a_{11} a_{32} - a_{12} a_{31}\\right)\\right)}{\\left(a_{11} a_{22} - a_{12} a_{21}\\right) \\left(\\left(a_{11} a_{22} - a_{12} a_{21}\\right) \\left(a_{11} a_{33} - a_{13} a_{31}\\right) - \\left(a_{11} a_{23} - a_{13} a_{21}\\right) \\left(a_{11} a_{32} - a_{12} a_{31}\\right)\\right)} & - \\frac{a_{11} \\left(a_{11} a_{23} - a_{13} a_{21}\\right)}{\\left(a_{11} a_{22} - a_{12} a_{21}\\right) \\left(a_{11} a_{33} - a_{13} a_{31}\\right) - \\left(a_{11} a_{23} - a_{13} a_{21}\\right) \\left(a_{11} a_{32} - a_{12} a_{31}\\right)}\\\\\\frac{a_{21} \\left(a_{11} a_{32} - a_{12} a_{31}\\right) - a_{31} \\left(a_{11} a_{22} - a_{12} a_{21}\\right)}{\\left(a_{11} a_{22} - a_{12} a_{21}\\right) \\left(a_{11} a_{33} - a_{13} a_{31}\\right) - \\left(a_{11} a_{23} - a_{13} a_{21}\\right) \\left(a_{11} a_{32} - a_{12} a_{31}\\right)} & - \\frac{a_{11} \\left(a_{11} a_{32} - a_{12} a_{31}\\right)}{\\left(a_{11} a_{22} - a_{12} a_{21}\\right) \\left(a_{11} a_{33} - a_{13} a_{31}\\right) - \\left(a_{11} a_{23} - a_{13} a_{21}\\right) \\left(a_{11} a_{32} - a_{12} a_{31}\\right)} & \\frac{a_{11} \\left(a_{11} a_{22} - a_{12} a_{21}\\right)}{\\left(a_{11} a_{22} - a_{12} a_{21}\\right) \\left(a_{11} a_{33} - a_{13} a_{31}\\right) - \\left(a_{11} a_{23} - a_{13} a_{21}\\right) \\left(a_{11} a_{32} - a_{12} a_{31}\\right)}\\end{matrix}\\right]$"
      ],
      "text/plain": [
       "Matrix([\n",
       "[(a11*a22*((a11*a22 - a12*a21)*(a11*a33 - a13*a31) - (a11*a23 - a13*a21)*(a11*a32 - a12*a31)) - (-a12*(a11*a23 - a13*a21) + a13*(a11*a22 - a12*a21))*(a21*(a11*a32 - a12*a31) - a31*(a11*a22 - a12*a21)))/(a11*(a11*a22 - a12*a21)*((a11*a22 - a12*a21)*(a11*a33 - a13*a31) - (a11*a23 - a13*a21)*(a11*a32 - a12*a31))), (-a11*a12*((a11*a22 - a12*a21)*(a11*a33 - a13*a31) - (a11*a23 - a13*a21)*(a11*a32 - a12*a31)) + a11*(a11*a32 - a12*a31)*(-a12*(a11*a23 - a13*a21) + a13*(a11*a22 - a12*a21)))/(a11*(a11*a22 - a12*a21)*((a11*a22 - a12*a21)*(a11*a33 - a13*a31) - (a11*a23 - a13*a21)*(a11*a32 - a12*a31))), -(-a12*(a11*a23 - a13*a21) + a13*(a11*a22 - a12*a21))/((a11*a22 - a12*a21)*(a11*a33 - a13*a31) - (a11*a23 - a13*a21)*(a11*a32 - a12*a31))],\n",
       "[                                        (-a21*((a11*a22 - a12*a21)*(a11*a33 - a13*a31) - (a11*a23 - a13*a21)*(a11*a32 - a12*a31)) - (a11*a23 - a13*a21)*(a21*(a11*a32 - a12*a31) - a31*(a11*a22 - a12*a21)))/((a11*a22 - a12*a21)*((a11*a22 - a12*a21)*(a11*a33 - a13*a31) - (a11*a23 - a13*a21)*(a11*a32 - a12*a31))),                                           (a11*(a11*a23 - a13*a21)*(a11*a32 - a12*a31) + a11*((a11*a22 - a12*a21)*(a11*a33 - a13*a31) - (a11*a23 - a13*a21)*(a11*a32 - a12*a31)))/((a11*a22 - a12*a21)*((a11*a22 - a12*a21)*(a11*a33 - a13*a31) - (a11*a23 - a13*a21)*(a11*a32 - a12*a31))),                              -a11*(a11*a23 - a13*a21)/((a11*a22 - a12*a21)*(a11*a33 - a13*a31) - (a11*a23 - a13*a21)*(a11*a32 - a12*a31))],\n",
       "[                                                                                                                                                                               (a21*(a11*a32 - a12*a31) - a31*(a11*a22 - a12*a21))/((a11*a22 - a12*a21)*(a11*a33 - a13*a31) - (a11*a23 - a13*a21)*(a11*a32 - a12*a31)),                                                                                                                                                                                -a11*(a11*a32 - a12*a31)/((a11*a22 - a12*a21)*(a11*a33 - a13*a31) - (a11*a23 - a13*a21)*(a11*a32 - a12*a31)),                               a11*(a11*a22 - a12*a21)/((a11*a22 - a12*a21)*(a11*a33 - a13*a31) - (a11*a23 - a13*a21)*(a11*a32 - a12*a31))]])"
      ]
     },
     "execution_count": 13,
     "metadata": {},
     "output_type": "execute_result"
    }
   ],
   "source": [
    "invM"
   ]
  },
  {
   "cell_type": "code",
   "execution_count": 14,
   "metadata": {
    "scrolled": true
   },
   "outputs": [
    {
     "data": {
      "text/latex": [
       "$\\displaystyle \\left[\\begin{matrix}\\frac{a_{12} \\left(- a_{21} \\left(\\left(a_{11} a_{22} - a_{12} a_{21}\\right) \\left(a_{11} a_{33} - a_{13} a_{31}\\right) - \\left(a_{11} a_{23} - a_{13} a_{21}\\right) \\left(a_{11} a_{32} - a_{12} a_{31}\\right)\\right) - \\left(a_{11} a_{23} - a_{13} a_{21}\\right) \\left(a_{21} \\left(a_{11} a_{32} - a_{12} a_{31}\\right) - a_{31} \\left(a_{11} a_{22} - a_{12} a_{21}\\right)\\right)\\right)}{\\left(a_{11} a_{22} - a_{12} a_{21}\\right) \\left(\\left(a_{11} a_{22} - a_{12} a_{21}\\right) \\left(a_{11} a_{33} - a_{13} a_{31}\\right) - \\left(a_{11} a_{23} - a_{13} a_{21}\\right) \\left(a_{11} a_{32} - a_{12} a_{31}\\right)\\right)} + \\frac{a_{13} \\left(a_{21} \\left(a_{11} a_{32} - a_{12} a_{31}\\right) - a_{31} \\left(a_{11} a_{22} - a_{12} a_{21}\\right)\\right)}{\\left(a_{11} a_{22} - a_{12} a_{21}\\right) \\left(a_{11} a_{33} - a_{13} a_{31}\\right) - \\left(a_{11} a_{23} - a_{13} a_{21}\\right) \\left(a_{11} a_{32} - a_{12} a_{31}\\right)} + \\frac{a_{11} a_{22} \\left(\\left(a_{11} a_{22} - a_{12} a_{21}\\right) \\left(a_{11} a_{33} - a_{13} a_{31}\\right) - \\left(a_{11} a_{23} - a_{13} a_{21}\\right) \\left(a_{11} a_{32} - a_{12} a_{31}\\right)\\right) - \\left(- a_{12} \\left(a_{11} a_{23} - a_{13} a_{21}\\right) + a_{13} \\left(a_{11} a_{22} - a_{12} a_{21}\\right)\\right) \\left(a_{21} \\left(a_{11} a_{32} - a_{12} a_{31}\\right) - a_{31} \\left(a_{11} a_{22} - a_{12} a_{21}\\right)\\right)}{\\left(a_{11} a_{22} - a_{12} a_{21}\\right) \\left(\\left(a_{11} a_{22} - a_{12} a_{21}\\right) \\left(a_{11} a_{33} - a_{13} a_{31}\\right) - \\left(a_{11} a_{23} - a_{13} a_{21}\\right) \\left(a_{11} a_{32} - a_{12} a_{31}\\right)\\right)} & - \\frac{a_{11} a_{13} \\left(a_{11} a_{32} - a_{12} a_{31}\\right)}{\\left(a_{11} a_{22} - a_{12} a_{21}\\right) \\left(a_{11} a_{33} - a_{13} a_{31}\\right) - \\left(a_{11} a_{23} - a_{13} a_{21}\\right) \\left(a_{11} a_{32} - a_{12} a_{31}\\right)} + \\frac{a_{12} \\left(a_{11} \\left(a_{11} a_{23} - a_{13} a_{21}\\right) \\left(a_{11} a_{32} - a_{12} a_{31}\\right) + a_{11} \\left(\\left(a_{11} a_{22} - a_{12} a_{21}\\right) \\left(a_{11} a_{33} - a_{13} a_{31}\\right) - \\left(a_{11} a_{23} - a_{13} a_{21}\\right) \\left(a_{11} a_{32} - a_{12} a_{31}\\right)\\right)\\right)}{\\left(a_{11} a_{22} - a_{12} a_{21}\\right) \\left(\\left(a_{11} a_{22} - a_{12} a_{21}\\right) \\left(a_{11} a_{33} - a_{13} a_{31}\\right) - \\left(a_{11} a_{23} - a_{13} a_{21}\\right) \\left(a_{11} a_{32} - a_{12} a_{31}\\right)\\right)} + \\frac{- a_{11} a_{12} \\left(\\left(a_{11} a_{22} - a_{12} a_{21}\\right) \\left(a_{11} a_{33} - a_{13} a_{31}\\right) - \\left(a_{11} a_{23} - a_{13} a_{21}\\right) \\left(a_{11} a_{32} - a_{12} a_{31}\\right)\\right) + a_{11} \\left(a_{11} a_{32} - a_{12} a_{31}\\right) \\left(- a_{12} \\left(a_{11} a_{23} - a_{13} a_{21}\\right) + a_{13} \\left(a_{11} a_{22} - a_{12} a_{21}\\right)\\right)}{\\left(a_{11} a_{22} - a_{12} a_{21}\\right) \\left(\\left(a_{11} a_{22} - a_{12} a_{21}\\right) \\left(a_{11} a_{33} - a_{13} a_{31}\\right) - \\left(a_{11} a_{23} - a_{13} a_{21}\\right) \\left(a_{11} a_{32} - a_{12} a_{31}\\right)\\right)} & - \\frac{a_{11} a_{12} \\left(a_{11} a_{23} - a_{13} a_{21}\\right)}{\\left(a_{11} a_{22} - a_{12} a_{21}\\right) \\left(a_{11} a_{33} - a_{13} a_{31}\\right) - \\left(a_{11} a_{23} - a_{13} a_{21}\\right) \\left(a_{11} a_{32} - a_{12} a_{31}\\right)} + \\frac{a_{11} a_{13} \\left(a_{11} a_{22} - a_{12} a_{21}\\right)}{\\left(a_{11} a_{22} - a_{12} a_{21}\\right) \\left(a_{11} a_{33} - a_{13} a_{31}\\right) - \\left(a_{11} a_{23} - a_{13} a_{21}\\right) \\left(a_{11} a_{32} - a_{12} a_{31}\\right)} - \\frac{a_{11} \\left(- a_{12} \\left(a_{11} a_{23} - a_{13} a_{21}\\right) + a_{13} \\left(a_{11} a_{22} - a_{12} a_{21}\\right)\\right)}{\\left(a_{11} a_{22} - a_{12} a_{21}\\right) \\left(a_{11} a_{33} - a_{13} a_{31}\\right) - \\left(a_{11} a_{23} - a_{13} a_{21}\\right) \\left(a_{11} a_{32} - a_{12} a_{31}\\right)}\\\\\\frac{a_{22} \\left(- a_{21} \\left(\\left(a_{11} a_{22} - a_{12} a_{21}\\right) \\left(a_{11} a_{33} - a_{13} a_{31}\\right) - \\left(a_{11} a_{23} - a_{13} a_{21}\\right) \\left(a_{11} a_{32} - a_{12} a_{31}\\right)\\right) - \\left(a_{11} a_{23} - a_{13} a_{21}\\right) \\left(a_{21} \\left(a_{11} a_{32} - a_{12} a_{31}\\right) - a_{31} \\left(a_{11} a_{22} - a_{12} a_{21}\\right)\\right)\\right)}{\\left(a_{11} a_{22} - a_{12} a_{21}\\right) \\left(\\left(a_{11} a_{22} - a_{12} a_{21}\\right) \\left(a_{11} a_{33} - a_{13} a_{31}\\right) - \\left(a_{11} a_{23} - a_{13} a_{21}\\right) \\left(a_{11} a_{32} - a_{12} a_{31}\\right)\\right)} + \\frac{a_{23} \\left(a_{21} \\left(a_{11} a_{32} - a_{12} a_{31}\\right) - a_{31} \\left(a_{11} a_{22} - a_{12} a_{21}\\right)\\right)}{\\left(a_{11} a_{22} - a_{12} a_{21}\\right) \\left(a_{11} a_{33} - a_{13} a_{31}\\right) - \\left(a_{11} a_{23} - a_{13} a_{21}\\right) \\left(a_{11} a_{32} - a_{12} a_{31}\\right)} + \\frac{a_{21} \\left(a_{11} a_{22} \\left(\\left(a_{11} a_{22} - a_{12} a_{21}\\right) \\left(a_{11} a_{33} - a_{13} a_{31}\\right) - \\left(a_{11} a_{23} - a_{13} a_{21}\\right) \\left(a_{11} a_{32} - a_{12} a_{31}\\right)\\right) - \\left(- a_{12} \\left(a_{11} a_{23} - a_{13} a_{21}\\right) + a_{13} \\left(a_{11} a_{22} - a_{12} a_{21}\\right)\\right) \\left(a_{21} \\left(a_{11} a_{32} - a_{12} a_{31}\\right) - a_{31} \\left(a_{11} a_{22} - a_{12} a_{21}\\right)\\right)\\right)}{a_{11} \\left(a_{11} a_{22} - a_{12} a_{21}\\right) \\left(\\left(a_{11} a_{22} - a_{12} a_{21}\\right) \\left(a_{11} a_{33} - a_{13} a_{31}\\right) - \\left(a_{11} a_{23} - a_{13} a_{21}\\right) \\left(a_{11} a_{32} - a_{12} a_{31}\\right)\\right)} & - \\frac{a_{11} a_{23} \\left(a_{11} a_{32} - a_{12} a_{31}\\right)}{\\left(a_{11} a_{22} - a_{12} a_{21}\\right) \\left(a_{11} a_{33} - a_{13} a_{31}\\right) - \\left(a_{11} a_{23} - a_{13} a_{21}\\right) \\left(a_{11} a_{32} - a_{12} a_{31}\\right)} + \\frac{a_{22} \\left(a_{11} \\left(a_{11} a_{23} - a_{13} a_{21}\\right) \\left(a_{11} a_{32} - a_{12} a_{31}\\right) + a_{11} \\left(\\left(a_{11} a_{22} - a_{12} a_{21}\\right) \\left(a_{11} a_{33} - a_{13} a_{31}\\right) - \\left(a_{11} a_{23} - a_{13} a_{21}\\right) \\left(a_{11} a_{32} - a_{12} a_{31}\\right)\\right)\\right)}{\\left(a_{11} a_{22} - a_{12} a_{21}\\right) \\left(\\left(a_{11} a_{22} - a_{12} a_{21}\\right) \\left(a_{11} a_{33} - a_{13} a_{31}\\right) - \\left(a_{11} a_{23} - a_{13} a_{21}\\right) \\left(a_{11} a_{32} - a_{12} a_{31}\\right)\\right)} + \\frac{a_{21} \\left(- a_{11} a_{12} \\left(\\left(a_{11} a_{22} - a_{12} a_{21}\\right) \\left(a_{11} a_{33} - a_{13} a_{31}\\right) - \\left(a_{11} a_{23} - a_{13} a_{21}\\right) \\left(a_{11} a_{32} - a_{12} a_{31}\\right)\\right) + a_{11} \\left(a_{11} a_{32} - a_{12} a_{31}\\right) \\left(- a_{12} \\left(a_{11} a_{23} - a_{13} a_{21}\\right) + a_{13} \\left(a_{11} a_{22} - a_{12} a_{21}\\right)\\right)\\right)}{a_{11} \\left(a_{11} a_{22} - a_{12} a_{21}\\right) \\left(\\left(a_{11} a_{22} - a_{12} a_{21}\\right) \\left(a_{11} a_{33} - a_{13} a_{31}\\right) - \\left(a_{11} a_{23} - a_{13} a_{21}\\right) \\left(a_{11} a_{32} - a_{12} a_{31}\\right)\\right)} & - \\frac{a_{11} a_{22} \\left(a_{11} a_{23} - a_{13} a_{21}\\right)}{\\left(a_{11} a_{22} - a_{12} a_{21}\\right) \\left(a_{11} a_{33} - a_{13} a_{31}\\right) - \\left(a_{11} a_{23} - a_{13} a_{21}\\right) \\left(a_{11} a_{32} - a_{12} a_{31}\\right)} + \\frac{a_{11} a_{23} \\left(a_{11} a_{22} - a_{12} a_{21}\\right)}{\\left(a_{11} a_{22} - a_{12} a_{21}\\right) \\left(a_{11} a_{33} - a_{13} a_{31}\\right) - \\left(a_{11} a_{23} - a_{13} a_{21}\\right) \\left(a_{11} a_{32} - a_{12} a_{31}\\right)} - \\frac{a_{21} \\left(- a_{12} \\left(a_{11} a_{23} - a_{13} a_{21}\\right) + a_{13} \\left(a_{11} a_{22} - a_{12} a_{21}\\right)\\right)}{\\left(a_{11} a_{22} - a_{12} a_{21}\\right) \\left(a_{11} a_{33} - a_{13} a_{31}\\right) - \\left(a_{11} a_{23} - a_{13} a_{21}\\right) \\left(a_{11} a_{32} - a_{12} a_{31}\\right)}\\\\\\frac{a_{32} \\left(- a_{21} \\left(\\left(a_{11} a_{22} - a_{12} a_{21}\\right) \\left(a_{11} a_{33} - a_{13} a_{31}\\right) - \\left(a_{11} a_{23} - a_{13} a_{21}\\right) \\left(a_{11} a_{32} - a_{12} a_{31}\\right)\\right) - \\left(a_{11} a_{23} - a_{13} a_{21}\\right) \\left(a_{21} \\left(a_{11} a_{32} - a_{12} a_{31}\\right) - a_{31} \\left(a_{11} a_{22} - a_{12} a_{21}\\right)\\right)\\right)}{\\left(a_{11} a_{22} - a_{12} a_{21}\\right) \\left(\\left(a_{11} a_{22} - a_{12} a_{21}\\right) \\left(a_{11} a_{33} - a_{13} a_{31}\\right) - \\left(a_{11} a_{23} - a_{13} a_{21}\\right) \\left(a_{11} a_{32} - a_{12} a_{31}\\right)\\right)} + \\frac{a_{33} \\left(a_{21} \\left(a_{11} a_{32} - a_{12} a_{31}\\right) - a_{31} \\left(a_{11} a_{22} - a_{12} a_{21}\\right)\\right)}{\\left(a_{11} a_{22} - a_{12} a_{21}\\right) \\left(a_{11} a_{33} - a_{13} a_{31}\\right) - \\left(a_{11} a_{23} - a_{13} a_{21}\\right) \\left(a_{11} a_{32} - a_{12} a_{31}\\right)} + \\frac{a_{31} \\left(a_{11} a_{22} \\left(\\left(a_{11} a_{22} - a_{12} a_{21}\\right) \\left(a_{11} a_{33} - a_{13} a_{31}\\right) - \\left(a_{11} a_{23} - a_{13} a_{21}\\right) \\left(a_{11} a_{32} - a_{12} a_{31}\\right)\\right) - \\left(- a_{12} \\left(a_{11} a_{23} - a_{13} a_{21}\\right) + a_{13} \\left(a_{11} a_{22} - a_{12} a_{21}\\right)\\right) \\left(a_{21} \\left(a_{11} a_{32} - a_{12} a_{31}\\right) - a_{31} \\left(a_{11} a_{22} - a_{12} a_{21}\\right)\\right)\\right)}{a_{11} \\left(a_{11} a_{22} - a_{12} a_{21}\\right) \\left(\\left(a_{11} a_{22} - a_{12} a_{21}\\right) \\left(a_{11} a_{33} - a_{13} a_{31}\\right) - \\left(a_{11} a_{23} - a_{13} a_{21}\\right) \\left(a_{11} a_{32} - a_{12} a_{31}\\right)\\right)} & - \\frac{a_{11} a_{33} \\left(a_{11} a_{32} - a_{12} a_{31}\\right)}{\\left(a_{11} a_{22} - a_{12} a_{21}\\right) \\left(a_{11} a_{33} - a_{13} a_{31}\\right) - \\left(a_{11} a_{23} - a_{13} a_{21}\\right) \\left(a_{11} a_{32} - a_{12} a_{31}\\right)} + \\frac{a_{32} \\left(a_{11} \\left(a_{11} a_{23} - a_{13} a_{21}\\right) \\left(a_{11} a_{32} - a_{12} a_{31}\\right) + a_{11} \\left(\\left(a_{11} a_{22} - a_{12} a_{21}\\right) \\left(a_{11} a_{33} - a_{13} a_{31}\\right) - \\left(a_{11} a_{23} - a_{13} a_{21}\\right) \\left(a_{11} a_{32} - a_{12} a_{31}\\right)\\right)\\right)}{\\left(a_{11} a_{22} - a_{12} a_{21}\\right) \\left(\\left(a_{11} a_{22} - a_{12} a_{21}\\right) \\left(a_{11} a_{33} - a_{13} a_{31}\\right) - \\left(a_{11} a_{23} - a_{13} a_{21}\\right) \\left(a_{11} a_{32} - a_{12} a_{31}\\right)\\right)} + \\frac{a_{31} \\left(- a_{11} a_{12} \\left(\\left(a_{11} a_{22} - a_{12} a_{21}\\right) \\left(a_{11} a_{33} - a_{13} a_{31}\\right) - \\left(a_{11} a_{23} - a_{13} a_{21}\\right) \\left(a_{11} a_{32} - a_{12} a_{31}\\right)\\right) + a_{11} \\left(a_{11} a_{32} - a_{12} a_{31}\\right) \\left(- a_{12} \\left(a_{11} a_{23} - a_{13} a_{21}\\right) + a_{13} \\left(a_{11} a_{22} - a_{12} a_{21}\\right)\\right)\\right)}{a_{11} \\left(a_{11} a_{22} - a_{12} a_{21}\\right) \\left(\\left(a_{11} a_{22} - a_{12} a_{21}\\right) \\left(a_{11} a_{33} - a_{13} a_{31}\\right) - \\left(a_{11} a_{23} - a_{13} a_{21}\\right) \\left(a_{11} a_{32} - a_{12} a_{31}\\right)\\right)} & - \\frac{a_{11} a_{32} \\left(a_{11} a_{23} - a_{13} a_{21}\\right)}{\\left(a_{11} a_{22} - a_{12} a_{21}\\right) \\left(a_{11} a_{33} - a_{13} a_{31}\\right) - \\left(a_{11} a_{23} - a_{13} a_{21}\\right) \\left(a_{11} a_{32} - a_{12} a_{31}\\right)} + \\frac{a_{11} a_{33} \\left(a_{11} a_{22} - a_{12} a_{21}\\right)}{\\left(a_{11} a_{22} - a_{12} a_{21}\\right) \\left(a_{11} a_{33} - a_{13} a_{31}\\right) - \\left(a_{11} a_{23} - a_{13} a_{21}\\right) \\left(a_{11} a_{32} - a_{12} a_{31}\\right)} - \\frac{a_{31} \\left(- a_{12} \\left(a_{11} a_{23} - a_{13} a_{21}\\right) + a_{13} \\left(a_{11} a_{22} - a_{12} a_{21}\\right)\\right)}{\\left(a_{11} a_{22} - a_{12} a_{21}\\right) \\left(a_{11} a_{33} - a_{13} a_{31}\\right) - \\left(a_{11} a_{23} - a_{13} a_{21}\\right) \\left(a_{11} a_{32} - a_{12} a_{31}\\right)}\\end{matrix}\\right]$"
      ],
      "text/plain": [
       "Matrix([\n",
       "[        a12*(-a21*((a11*a22 - a12*a21)*(a11*a33 - a13*a31) - (a11*a23 - a13*a21)*(a11*a32 - a12*a31)) - (a11*a23 - a13*a21)*(a21*(a11*a32 - a12*a31) - a31*(a11*a22 - a12*a21)))/((a11*a22 - a12*a21)*((a11*a22 - a12*a21)*(a11*a33 - a13*a31) - (a11*a23 - a13*a21)*(a11*a32 - a12*a31))) + a13*(a21*(a11*a32 - a12*a31) - a31*(a11*a22 - a12*a21))/((a11*a22 - a12*a21)*(a11*a33 - a13*a31) - (a11*a23 - a13*a21)*(a11*a32 - a12*a31)) + (a11*a22*((a11*a22 - a12*a21)*(a11*a33 - a13*a31) - (a11*a23 - a13*a21)*(a11*a32 - a12*a31)) - (-a12*(a11*a23 - a13*a21) + a13*(a11*a22 - a12*a21))*(a21*(a11*a32 - a12*a31) - a31*(a11*a22 - a12*a21)))/((a11*a22 - a12*a21)*((a11*a22 - a12*a21)*(a11*a33 - a13*a31) - (a11*a23 - a13*a21)*(a11*a32 - a12*a31))),         -a11*a13*(a11*a32 - a12*a31)/((a11*a22 - a12*a21)*(a11*a33 - a13*a31) - (a11*a23 - a13*a21)*(a11*a32 - a12*a31)) + a12*(a11*(a11*a23 - a13*a21)*(a11*a32 - a12*a31) + a11*((a11*a22 - a12*a21)*(a11*a33 - a13*a31) - (a11*a23 - a13*a21)*(a11*a32 - a12*a31)))/((a11*a22 - a12*a21)*((a11*a22 - a12*a21)*(a11*a33 - a13*a31) - (a11*a23 - a13*a21)*(a11*a32 - a12*a31))) + (-a11*a12*((a11*a22 - a12*a21)*(a11*a33 - a13*a31) - (a11*a23 - a13*a21)*(a11*a32 - a12*a31)) + a11*(a11*a32 - a12*a31)*(-a12*(a11*a23 - a13*a21) + a13*(a11*a22 - a12*a21)))/((a11*a22 - a12*a21)*((a11*a22 - a12*a21)*(a11*a33 - a13*a31) - (a11*a23 - a13*a21)*(a11*a32 - a12*a31))), -a11*a12*(a11*a23 - a13*a21)/((a11*a22 - a12*a21)*(a11*a33 - a13*a31) - (a11*a23 - a13*a21)*(a11*a32 - a12*a31)) + a11*a13*(a11*a22 - a12*a21)/((a11*a22 - a12*a21)*(a11*a33 - a13*a31) - (a11*a23 - a13*a21)*(a11*a32 - a12*a31)) - a11*(-a12*(a11*a23 - a13*a21) + a13*(a11*a22 - a12*a21))/((a11*a22 - a12*a21)*(a11*a33 - a13*a31) - (a11*a23 - a13*a21)*(a11*a32 - a12*a31))],\n",
       "[a22*(-a21*((a11*a22 - a12*a21)*(a11*a33 - a13*a31) - (a11*a23 - a13*a21)*(a11*a32 - a12*a31)) - (a11*a23 - a13*a21)*(a21*(a11*a32 - a12*a31) - a31*(a11*a22 - a12*a21)))/((a11*a22 - a12*a21)*((a11*a22 - a12*a21)*(a11*a33 - a13*a31) - (a11*a23 - a13*a21)*(a11*a32 - a12*a31))) + a23*(a21*(a11*a32 - a12*a31) - a31*(a11*a22 - a12*a21))/((a11*a22 - a12*a21)*(a11*a33 - a13*a31) - (a11*a23 - a13*a21)*(a11*a32 - a12*a31)) + a21*(a11*a22*((a11*a22 - a12*a21)*(a11*a33 - a13*a31) - (a11*a23 - a13*a21)*(a11*a32 - a12*a31)) - (-a12*(a11*a23 - a13*a21) + a13*(a11*a22 - a12*a21))*(a21*(a11*a32 - a12*a31) - a31*(a11*a22 - a12*a21)))/(a11*(a11*a22 - a12*a21)*((a11*a22 - a12*a21)*(a11*a33 - a13*a31) - (a11*a23 - a13*a21)*(a11*a32 - a12*a31))), -a11*a23*(a11*a32 - a12*a31)/((a11*a22 - a12*a21)*(a11*a33 - a13*a31) - (a11*a23 - a13*a21)*(a11*a32 - a12*a31)) + a22*(a11*(a11*a23 - a13*a21)*(a11*a32 - a12*a31) + a11*((a11*a22 - a12*a21)*(a11*a33 - a13*a31) - (a11*a23 - a13*a21)*(a11*a32 - a12*a31)))/((a11*a22 - a12*a21)*((a11*a22 - a12*a21)*(a11*a33 - a13*a31) - (a11*a23 - a13*a21)*(a11*a32 - a12*a31))) + a21*(-a11*a12*((a11*a22 - a12*a21)*(a11*a33 - a13*a31) - (a11*a23 - a13*a21)*(a11*a32 - a12*a31)) + a11*(a11*a32 - a12*a31)*(-a12*(a11*a23 - a13*a21) + a13*(a11*a22 - a12*a21)))/(a11*(a11*a22 - a12*a21)*((a11*a22 - a12*a21)*(a11*a33 - a13*a31) - (a11*a23 - a13*a21)*(a11*a32 - a12*a31))), -a11*a22*(a11*a23 - a13*a21)/((a11*a22 - a12*a21)*(a11*a33 - a13*a31) - (a11*a23 - a13*a21)*(a11*a32 - a12*a31)) + a11*a23*(a11*a22 - a12*a21)/((a11*a22 - a12*a21)*(a11*a33 - a13*a31) - (a11*a23 - a13*a21)*(a11*a32 - a12*a31)) - a21*(-a12*(a11*a23 - a13*a21) + a13*(a11*a22 - a12*a21))/((a11*a22 - a12*a21)*(a11*a33 - a13*a31) - (a11*a23 - a13*a21)*(a11*a32 - a12*a31))],\n",
       "[a32*(-a21*((a11*a22 - a12*a21)*(a11*a33 - a13*a31) - (a11*a23 - a13*a21)*(a11*a32 - a12*a31)) - (a11*a23 - a13*a21)*(a21*(a11*a32 - a12*a31) - a31*(a11*a22 - a12*a21)))/((a11*a22 - a12*a21)*((a11*a22 - a12*a21)*(a11*a33 - a13*a31) - (a11*a23 - a13*a21)*(a11*a32 - a12*a31))) + a33*(a21*(a11*a32 - a12*a31) - a31*(a11*a22 - a12*a21))/((a11*a22 - a12*a21)*(a11*a33 - a13*a31) - (a11*a23 - a13*a21)*(a11*a32 - a12*a31)) + a31*(a11*a22*((a11*a22 - a12*a21)*(a11*a33 - a13*a31) - (a11*a23 - a13*a21)*(a11*a32 - a12*a31)) - (-a12*(a11*a23 - a13*a21) + a13*(a11*a22 - a12*a21))*(a21*(a11*a32 - a12*a31) - a31*(a11*a22 - a12*a21)))/(a11*(a11*a22 - a12*a21)*((a11*a22 - a12*a21)*(a11*a33 - a13*a31) - (a11*a23 - a13*a21)*(a11*a32 - a12*a31))), -a11*a33*(a11*a32 - a12*a31)/((a11*a22 - a12*a21)*(a11*a33 - a13*a31) - (a11*a23 - a13*a21)*(a11*a32 - a12*a31)) + a32*(a11*(a11*a23 - a13*a21)*(a11*a32 - a12*a31) + a11*((a11*a22 - a12*a21)*(a11*a33 - a13*a31) - (a11*a23 - a13*a21)*(a11*a32 - a12*a31)))/((a11*a22 - a12*a21)*((a11*a22 - a12*a21)*(a11*a33 - a13*a31) - (a11*a23 - a13*a21)*(a11*a32 - a12*a31))) + a31*(-a11*a12*((a11*a22 - a12*a21)*(a11*a33 - a13*a31) - (a11*a23 - a13*a21)*(a11*a32 - a12*a31)) + a11*(a11*a32 - a12*a31)*(-a12*(a11*a23 - a13*a21) + a13*(a11*a22 - a12*a21)))/(a11*(a11*a22 - a12*a21)*((a11*a22 - a12*a21)*(a11*a33 - a13*a31) - (a11*a23 - a13*a21)*(a11*a32 - a12*a31))), -a11*a32*(a11*a23 - a13*a21)/((a11*a22 - a12*a21)*(a11*a33 - a13*a31) - (a11*a23 - a13*a21)*(a11*a32 - a12*a31)) + a11*a33*(a11*a22 - a12*a21)/((a11*a22 - a12*a21)*(a11*a33 - a13*a31) - (a11*a23 - a13*a21)*(a11*a32 - a12*a31)) - a31*(-a12*(a11*a23 - a13*a21) + a13*(a11*a22 - a12*a21))/((a11*a22 - a12*a21)*(a11*a33 - a13*a31) - (a11*a23 - a13*a21)*(a11*a32 - a12*a31))]])"
      ]
     },
     "execution_count": 14,
     "metadata": {},
     "output_type": "execute_result"
    }
   ],
   "source": [
    "M*invM"
   ]
  },
  {
   "cell_type": "markdown",
   "metadata": {},
   "source": [
    "Identity matrix"
   ]
  },
  {
   "cell_type": "code",
   "execution_count": 15,
   "metadata": {},
   "outputs": [],
   "source": [
    "I = eye(3)"
   ]
  },
  {
   "cell_type": "code",
   "execution_count": 16,
   "metadata": {
    "scrolled": true
   },
   "outputs": [
    {
     "data": {
      "text/latex": [
       "$\\displaystyle \\left[\\begin{matrix}1 & 0 & 0\\\\0 & 1 & 0\\\\0 & 0 & 1\\end{matrix}\\right]$"
      ],
      "text/plain": [
       "Matrix([\n",
       "[1, 0, 0],\n",
       "[0, 1, 0],\n",
       "[0, 0, 1]])"
      ]
     },
     "execution_count": 16,
     "metadata": {},
     "output_type": "execute_result"
    }
   ],
   "source": [
    "I"
   ]
  },
  {
   "cell_type": "code",
   "execution_count": 17,
   "metadata": {},
   "outputs": [
    {
     "data": {
      "text/latex": [
       "$\\displaystyle \\left[\\begin{matrix}a_{11} & a_{12} & a_{13}\\\\a_{21} & a_{22} & a_{23}\\\\a_{31} & a_{32} & a_{33}\\end{matrix}\\right]$"
      ],
      "text/plain": [
       "Matrix([\n",
       "[a11, a12, a13],\n",
       "[a21, a22, a23],\n",
       "[a31, a32, a33]])"
      ]
     },
     "execution_count": 17,
     "metadata": {},
     "output_type": "execute_result"
    }
   ],
   "source": [
    "I * M"
   ]
  },
  {
   "cell_type": "code",
   "execution_count": 18,
   "metadata": {},
   "outputs": [
    {
     "data": {
      "text/latex": [
       "$\\displaystyle \\left[\\begin{matrix}a_{11} & a_{12} & a_{13}\\\\a_{21} & a_{22} & a_{23}\\\\a_{31} & a_{32} & a_{33}\\end{matrix}\\right]$"
      ],
      "text/plain": [
       "Matrix([\n",
       "[a11, a12, a13],\n",
       "[a21, a22, a23],\n",
       "[a31, a32, a33]])"
      ]
     },
     "execution_count": 18,
     "metadata": {},
     "output_type": "execute_result"
    }
   ],
   "source": [
    "M * I"
   ]
  },
  {
   "cell_type": "code",
   "execution_count": null,
   "metadata": {},
   "outputs": [],
   "source": []
  }
 ],
 "metadata": {
  "kernelspec": {
   "display_name": "Python 3",
   "language": "python",
   "name": "python3"
  },
  "language_info": {
   "codemirror_mode": {
    "name": "ipython",
    "version": 3
   },
   "file_extension": ".py",
   "mimetype": "text/x-python",
   "name": "python",
   "nbconvert_exporter": "python",
   "pygments_lexer": "ipython3",
   "version": "3.7.3"
  }
 },
 "nbformat": 4,
 "nbformat_minor": 4
}
